{
  "cells": [
    {
      "cell_type": "markdown",
      "metadata": {
        "id": "view-in-github",
        "colab_type": "text"
      },
      "source": [
        "<a href=\"https://colab.research.google.com/github/jafararalikhan/NumPy-Tutorials/blob/main/NumPy_tutorials.ipynb\" target=\"_parent\"><img src=\"https://colab.research.google.com/assets/colab-badge.svg\" alt=\"Open In Colab\"/></a>"
      ]
    },
    {
      "cell_type": "markdown",
      "metadata": {
        "id": "QwF6XyWPtjif"
      },
      "source": [
        "#Importing Dependances"
      ]
    },
    {
      "cell_type": "code",
      "execution_count": 187,
      "metadata": {
        "id": "W8mwmOwrtZEl"
      },
      "outputs": [],
      "source": [
        "import numpy as np\n",
        "import matplotlib.pyplot as plt\n",
        "import seaborn as sns\n",
        "\n"
      ]
    },
    {
      "cell_type": "markdown",
      "metadata": {
        "id": "R0f7ercruA-M"
      },
      "source": [
        "#Print 0-D Array"
      ]
    },
    {
      "cell_type": "code",
      "execution_count": 188,
      "metadata": {
        "colab": {
          "base_uri": "https://localhost:8080/"
        },
        "id": "ku-eiphDuQit",
        "outputId": "35747b92-45f3-45a8-c8a6-b6796647ba91"
      },
      "outputs": [
        {
          "output_type": "stream",
          "name": "stdout",
          "text": [
            "[4]\n"
          ]
        }
      ],
      "source": [
        "arr0 = np.array([4])\n",
        "arr0\n",
        "print(arr0)"
      ]
    },
    {
      "cell_type": "markdown",
      "metadata": {
        "id": "zCV3jaU0utIZ"
      },
      "source": [
        "#Print 1-D Array"
      ]
    },
    {
      "cell_type": "code",
      "execution_count": 189,
      "metadata": {
        "colab": {
          "base_uri": "https://localhost:8080/"
        },
        "id": "4vuGw0j8urIU",
        "outputId": "9c5bf002-b79e-48a8-983b-b2b160af9b95"
      },
      "outputs": [
        {
          "output_type": "stream",
          "name": "stdout",
          "text": [
            "[1 2 3 4 5 6]\n"
          ]
        }
      ],
      "source": [
        "arr1 = np.array([1,2,3,4,5,6])\n",
        "arr1\n",
        "print(arr1)"
      ]
    },
    {
      "cell_type": "markdown",
      "metadata": {
        "id": "92offKccvDM5"
      },
      "source": [
        "#Print 2-D Array"
      ]
    },
    {
      "cell_type": "code",
      "execution_count": 190,
      "metadata": {
        "colab": {
          "base_uri": "https://localhost:8080/"
        },
        "id": "eTS4ROH_vOoV",
        "outputId": "80c9cc14-d5ff-44df-a4fe-b3165ea19dae"
      },
      "outputs": [
        {
          "output_type": "stream",
          "name": "stdout",
          "text": [
            "[[1 2 3 4]\n",
            " [5 6 7 8]]\n"
          ]
        }
      ],
      "source": [
        "arr2 = np.array([[1,2,3,4],[5,6,7,8]])\n",
        "arr2\n",
        "print(arr2)"
      ]
    },
    {
      "cell_type": "markdown",
      "metadata": {
        "id": "BAvxWg55vxwI"
      },
      "source": [
        "#Print 3-D Array"
      ]
    },
    {
      "cell_type": "code",
      "execution_count": 191,
      "metadata": {
        "colab": {
          "base_uri": "https://localhost:8080/"
        },
        "id": "gkK3rNqLv27B",
        "outputId": "c730babd-bcaa-418b-f97b-af35f36d372f"
      },
      "outputs": [
        {
          "output_type": "stream",
          "name": "stdout",
          "text": [
            "[[[1 2 3]\n",
            "  [4 5 6]]\n",
            "\n",
            " [[7 8 9]\n",
            "  [3 2 1]]]\n"
          ]
        }
      ],
      "source": [
        "arr3 = np.array([[[1,2,3,],[4,5,6]],[[7,8,9],[3,2,1]]])\n",
        "arr3\n",
        "print(arr3)"
      ]
    },
    {
      "cell_type": "markdown",
      "metadata": {
        "id": "bxE_z9Hj0oSJ"
      },
      "source": [
        "#Get first element the follwing Array"
      ]
    },
    {
      "cell_type": "code",
      "execution_count": 192,
      "metadata": {
        "colab": {
          "base_uri": "https://localhost:8080/"
        },
        "id": "gWhRdwvV0z7o",
        "outputId": "c09b65d5-1882-4b12-e9bb-ff321e65c0ac"
      },
      "outputs": [
        {
          "output_type": "execute_result",
          "data": {
            "text/plain": [
              "1"
            ]
          },
          "metadata": {},
          "execution_count": 192
        }
      ],
      "source": [
        "arr1[0]"
      ]
    },
    {
      "cell_type": "markdown",
      "metadata": {
        "id": "JkGbveRJ2usq"
      },
      "source": [
        "#Get Second element the follwing Array"
      ]
    },
    {
      "cell_type": "code",
      "execution_count": 193,
      "metadata": {
        "colab": {
          "base_uri": "https://localhost:8080/"
        },
        "id": "jHtIFyOd3SiG",
        "outputId": "6d8772ef-5395-41d5-9729-1ff0d99959b7"
      },
      "outputs": [
        {
          "output_type": "execute_result",
          "data": {
            "text/plain": [
              "2"
            ]
          },
          "metadata": {},
          "execution_count": 193
        }
      ],
      "source": [
        "arr1[1]"
      ]
    },
    {
      "cell_type": "markdown",
      "metadata": {
        "id": "ImjJ0pZN3gkw"
      },
      "source": [
        "#Get the Third and forth elements form the follwing array and add them"
      ]
    },
    {
      "cell_type": "code",
      "execution_count": 194,
      "metadata": {
        "colab": {
          "base_uri": "https://localhost:8080/"
        },
        "id": "z60CYugW31iM",
        "outputId": "ca1f1ae3-602e-469a-aa07-479d13913eb8"
      },
      "outputs": [
        {
          "output_type": "stream",
          "name": "stdout",
          "text": [
            "7\n"
          ]
        }
      ],
      "source": [
        " arr_sum = arr1[2] + arr1[3]\n",
        " print(arr_sum)"
      ]
    },
    {
      "cell_type": "markdown",
      "metadata": {
        "id": "iy8LUR_jYUXG"
      },
      "source": [
        "# Access the element on the first  row, second column"
      ]
    },
    {
      "cell_type": "code",
      "execution_count": 195,
      "metadata": {
        "colab": {
          "base_uri": "https://localhost:8080/"
        },
        "id": "a32vZRP4ZJYm",
        "outputId": "44f97eb7-5622-41de-e0e2-1a9b51d47b66"
      },
      "outputs": [
        {
          "output_type": "stream",
          "name": "stdout",
          "text": [
            "2nd element on 1st row :  3\n"
          ]
        }
      ],
      "source": [
        "print(\"2nd element on 1st row : \", arr2[0,2])"
      ]
    },
    {
      "cell_type": "markdown",
      "metadata": {
        "id": "o4aMwZwDZ3Xf"
      },
      "source": [
        "# Access the element on the 2nd row , 5th column:"
      ]
    },
    {
      "cell_type": "code",
      "execution_count": 196,
      "metadata": {
        "colab": {
          "base_uri": "https://localhost:8080/"
        },
        "id": "19DRlMvPaEyM",
        "outputId": "bd909495-0a9a-491d-d821-f41dfb4b3d90"
      },
      "outputs": [
        {
          "output_type": "stream",
          "name": "stdout",
          "text": [
            "1th element on 2nd row :  5\n"
          ]
        }
      ],
      "source": [
        "print(\"1th element on 2nd row : \", arr2[1, 0])"
      ]
    },
    {
      "cell_type": "markdown",
      "metadata": {
        "id": "slw_m826aiiW"
      },
      "source": [
        "# Access the third element of the second array of the first array:"
      ]
    },
    {
      "cell_type": "code",
      "execution_count": 197,
      "metadata": {
        "colab": {
          "base_uri": "https://localhost:8080/"
        },
        "id": "5jS6pZ2hafrO",
        "outputId": "e9c1ba89-a968-486b-d2b5-896cf1825f7b"
      },
      "outputs": [
        {
          "output_type": "stream",
          "name": "stdout",
          "text": [
            "6\n"
          ]
        }
      ],
      "source": [
        "print(arr3[0, 1, 2])"
      ]
    },
    {
      "cell_type": "markdown",
      "metadata": {
        "id": "C7UmGVb2dwez"
      },
      "source": [
        "# Negative Indexing"
      ]
    },
    {
      "cell_type": "markdown",
      "metadata": {
        "id": "K-gmFKZOeGKp"
      },
      "source": [
        "#Print the last element form the 2nd dim:"
      ]
    },
    {
      "cell_type": "code",
      "execution_count": 198,
      "metadata": {
        "colab": {
          "base_uri": "https://localhost:8080/"
        },
        "id": "DMpVsPvAeB3S",
        "outputId": "95f1b77d-e436-4e60-dc2e-ee657ed23c2e"
      },
      "outputs": [
        {
          "output_type": "stream",
          "name": "stdout",
          "text": [
            "Last element form 2nd dim:  8\n"
          ]
        }
      ],
      "source": [
        "print(\"Last element form 2nd dim: \", arr2[1, -1])"
      ]
    },
    {
      "cell_type": "markdown",
      "metadata": {
        "id": "3PtnseSG1wZb"
      },
      "source": [
        "#**Slicing arrays**"
      ]
    },
    {
      "cell_type": "code",
      "execution_count": 198,
      "metadata": {
        "id": "BSpyiM3US-UW"
      },
      "outputs": [],
      "source": []
    },
    {
      "cell_type": "markdown",
      "metadata": {
        "id": "OEBz_u8o13dL"
      },
      "source": [
        "# slice elements from index 1 to index 5 from the following array :"
      ]
    },
    {
      "cell_type": "code",
      "execution_count": 199,
      "metadata": {
        "colab": {
          "base_uri": "https://localhost:8080/"
        },
        "id": "-Tu2XANa2ZfE",
        "outputId": "52fa5d98-4e36-48ed-fea2-fce0b15ed6fa"
      },
      "outputs": [
        {
          "output_type": "stream",
          "name": "stdout",
          "text": [
            "[2 3 4 5]\n"
          ]
        }
      ],
      "source": [
        "arr3 = np.array([1,2,3,4,5,6,7])\n",
        "print(arr3[1:5])"
      ]
    },
    {
      "cell_type": "markdown",
      "metadata": {
        "id": "Qn5EEsKF2_t0"
      },
      "source": [
        "#**!The result includes the start index, but excludes the end index**"
      ]
    },
    {
      "cell_type": "markdown",
      "metadata": {
        "id": "lFNg3skl46D0"
      },
      "source": [
        "#Slice elements from index 4 to the end of the array"
      ]
    },
    {
      "cell_type": "code",
      "execution_count": 200,
      "metadata": {
        "colab": {
          "base_uri": "https://localhost:8080/"
        },
        "id": "f3cCHQcH5MMp",
        "outputId": "768dc6fb-fdae-41a4-b617-27fd9fc93ee9"
      },
      "outputs": [
        {
          "output_type": "stream",
          "name": "stdout",
          "text": [
            "[5 6 7]\n"
          ]
        }
      ],
      "source": [
        "print(arr3[4:])"
      ]
    },
    {
      "cell_type": "markdown",
      "metadata": {
        "id": "MtZHN8R25huZ"
      },
      "source": [
        "#Slice elements from the beginning to index 4(not included)"
      ]
    },
    {
      "cell_type": "code",
      "execution_count": 201,
      "metadata": {
        "colab": {
          "base_uri": "https://localhost:8080/"
        },
        "id": "zeXaKXnP5xsd",
        "outputId": "ed97b8de-8e6d-49d8-f9ea-a1d68e4e72fd"
      },
      "outputs": [
        {
          "output_type": "stream",
          "name": "stdout",
          "text": [
            "[1 2 3 4]\n"
          ]
        }
      ],
      "source": [
        "print(arr3[:4])"
      ]
    },
    {
      "cell_type": "markdown",
      "metadata": {
        "id": "AYRPJ4wQ6C5c"
      },
      "source": [
        "#**Negative Slicing**"
      ]
    },
    {
      "cell_type": "markdown",
      "metadata": {
        "id": "TVrPbm-u6ROY"
      },
      "source": [
        "#Slice form the index 3 from the end to index 1 from the end"
      ]
    },
    {
      "cell_type": "code",
      "execution_count": 202,
      "metadata": {
        "colab": {
          "base_uri": "https://localhost:8080/"
        },
        "id": "NLjKWM7X6cAX",
        "outputId": "bd6e0997-3ff6-42a2-d5b4-ac87a07156fa"
      },
      "outputs": [
        {
          "output_type": "stream",
          "name": "stdout",
          "text": [
            "[5 6]\n"
          ]
        }
      ],
      "source": [
        "print(arr3[-3:-1])"
      ]
    },
    {
      "cell_type": "markdown",
      "metadata": {
        "id": "qoQZ4qfl64h4"
      },
      "source": [
        "#**STEP**\n",
        "\n"
      ]
    },
    {
      "cell_type": "markdown",
      "metadata": {
        "id": "pTGHrDrL7B06"
      },
      "source": [
        "# Return every other element from index 1 to index 5:"
      ]
    },
    {
      "cell_type": "code",
      "execution_count": 203,
      "metadata": {
        "colab": {
          "base_uri": "https://localhost:8080/"
        },
        "id": "JUv53ShN7Njy",
        "outputId": "78e3bceb-38ea-47c6-d817-64d8f307c2f3"
      },
      "outputs": [
        {
          "output_type": "stream",
          "name": "stdout",
          "text": [
            "[2 4]\n"
          ]
        }
      ],
      "source": [
        "print(arr3[1:5:2])"
      ]
    },
    {
      "cell_type": "markdown",
      "metadata": {
        "id": "vmLpzZgO7uAC"
      },
      "source": [
        "#Return every other element from the entire array"
      ]
    },
    {
      "cell_type": "code",
      "execution_count": 204,
      "metadata": {
        "colab": {
          "base_uri": "https://localhost:8080/"
        },
        "id": "4_-Ztglf77HI",
        "outputId": "8e0f122d-00f2-432d-eff2-9992be167041"
      },
      "outputs": [
        {
          "output_type": "stream",
          "name": "stdout",
          "text": [
            "[1 3 5 7]\n"
          ]
        }
      ],
      "source": [
        "print(arr3[::2])"
      ]
    },
    {
      "cell_type": "markdown",
      "metadata": {
        "id": "kFImZaPt7tje"
      },
      "source": [
        "#**Slicing 2-D Arrays**"
      ]
    },
    {
      "cell_type": "markdown",
      "metadata": {
        "id": "IqRvQViz9TD4"
      },
      "source": [
        "#From the second element, slice elements from index 4 (not included):"
      ]
    },
    {
      "cell_type": "code",
      "execution_count": 205,
      "metadata": {
        "colab": {
          "base_uri": "https://localhost:8080/"
        },
        "id": "y-CXKdFK8sCd",
        "outputId": "c5953c74-6b7c-4c56-9754-98cd1cc1b9d6"
      },
      "outputs": [
        {
          "output_type": "stream",
          "name": "stdout",
          "text": [
            "[7 8 9]\n"
          ]
        }
      ],
      "source": [
        "arr4 = np.array([[1,2,3,4,5], [6,7,8,9,10]])\n",
        "print(arr4[1, 1:4])"
      ]
    },
    {
      "cell_type": "markdown",
      "metadata": {
        "id": "g1PdMFgg_5Yw"
      },
      "source": [
        "#**!Remember that second element has index 1.**"
      ]
    },
    {
      "cell_type": "markdown",
      "metadata": {
        "id": "wTjycVgmAOgT"
      },
      "source": [
        "#From both elements, return index 2:"
      ]
    },
    {
      "cell_type": "code",
      "execution_count": 206,
      "metadata": {
        "colab": {
          "base_uri": "https://localhost:8080/"
        },
        "id": "USsNgxwKAdDc",
        "outputId": "aed6007d-727c-4011-c0ba-3686a24f4d16"
      },
      "outputs": [
        {
          "output_type": "stream",
          "name": "stdout",
          "text": [
            "[3 8]\n"
          ]
        }
      ],
      "source": [
        "print(arr4[0:2, 2])"
      ]
    },
    {
      "cell_type": "markdown",
      "metadata": {
        "id": "ZXRSfUtRBfQJ"
      },
      "source": [
        "#From both elements, slice index 1 to index 4 (not included), this will return a 2-D array:"
      ]
    },
    {
      "cell_type": "code",
      "execution_count": 207,
      "metadata": {
        "colab": {
          "base_uri": "https://localhost:8080/"
        },
        "id": "c_WJxfs8CNwf",
        "outputId": "2e46a189-1599-46ae-b8db-c6a2d4b17fbe"
      },
      "outputs": [
        {
          "output_type": "stream",
          "name": "stdout",
          "text": [
            "[[2 3 4]\n",
            " [7 8 9]]\n"
          ]
        }
      ],
      "source": [
        "print(arr4[0:2, 1:4])"
      ]
    },
    {
      "cell_type": "markdown",
      "metadata": {
        "id": "VJpUNBp1E-ul"
      },
      "source": [
        "#**Checking the Data Type of an Array**"
      ]
    },
    {
      "cell_type": "markdown",
      "metadata": {
        "id": "SyXsAi71FY2L"
      },
      "source": [
        "# The NumPy array object has a property called **dtype** that returns the data type of the array:"
      ]
    },
    {
      "cell_type": "markdown",
      "metadata": {
        "id": "8xq3T0t5F3Rb"
      },
      "source": [
        "#get the data type of an array object:"
      ]
    },
    {
      "cell_type": "code",
      "execution_count": 208,
      "metadata": {
        "colab": {
          "base_uri": "https://localhost:8080/"
        },
        "id": "OCeTnPTgF2d3",
        "outputId": "45eb45f3-9610-4009-dd0e-ae37c90fb471"
      },
      "outputs": [
        {
          "output_type": "stream",
          "name": "stdout",
          "text": [
            "int64\n"
          ]
        }
      ],
      "source": [
        "arr5 = np.array([1,2,3,4])\n",
        "print(arr5.dtype)"
      ]
    },
    {
      "cell_type": "markdown",
      "metadata": {
        "id": "y1-zqfUAHyHG"
      },
      "source": [
        "#Get the data type of an array containing strings:"
      ]
    },
    {
      "cell_type": "code",
      "execution_count": 209,
      "metadata": {
        "colab": {
          "base_uri": "https://localhost:8080/"
        },
        "id": "-H5zN0IcFW-m",
        "outputId": "81efcbf4-ae41-4078-d528-5540e0f81e10"
      },
      "outputs": [
        {
          "output_type": "stream",
          "name": "stdout",
          "text": [
            "<U6\n"
          ]
        }
      ],
      "source": [
        "arr6 = np.array(['apple', 'banana', 'cherry'])\n",
        "print(arr6.dtype)"
      ]
    },
    {
      "cell_type": "markdown",
      "metadata": {
        "id": "byV6XjnyIcjG"
      },
      "source": [
        "#Creating Arrays With a Definded Data Type"
      ]
    },
    {
      "cell_type": "code",
      "execution_count": 210,
      "metadata": {
        "colab": {
          "base_uri": "https://localhost:8080/"
        },
        "id": "PtHACIkfIpzc",
        "outputId": "2c417ae7-080c-4990-cff9-4f14514d9804"
      },
      "outputs": [
        {
          "output_type": "stream",
          "name": "stdout",
          "text": [
            "[b'1' b'2' b'3' b'4']\n",
            "|S1\n"
          ]
        }
      ],
      "source": [
        "arr7 = np.array([1,2,3,4], dtype='S')\n",
        "print(arr7)\n",
        "print(arr7.dtype)"
      ]
    },
    {
      "cell_type": "markdown",
      "metadata": {
        "id": "uh5F8NDBMAO9"
      },
      "source": [
        "# Create an array with data type 4 bytes integer:"
      ]
    },
    {
      "cell_type": "code",
      "execution_count": 211,
      "metadata": {
        "colab": {
          "base_uri": "https://localhost:8080/"
        },
        "id": "Cth60esWMTnQ",
        "outputId": "c4876c6f-bcdf-4211-a559-8fc6c9c5ea09"
      },
      "outputs": [
        {
          "output_type": "stream",
          "name": "stdout",
          "text": [
            "[1 2 3 4]\n",
            "int32\n"
          ]
        }
      ],
      "source": [
        "arr8 = np.array([1,2,3,4], dtype='i4')\n",
        "print(arr8)\n",
        "print(arr8.dtype)"
      ]
    },
    {
      "cell_type": "markdown",
      "metadata": {
        "id": "RZiWkvs6NMxV"
      },
      "source": [
        "#**What if a Value Can Not Be Converted?**"
      ]
    },
    {
      "cell_type": "markdown",
      "metadata": {
        "id": "bhm5i8O8NwS0"
      },
      "source": [
        "if a type is given in which elements can't be casted then Numpy will raise a ValueError."
      ]
    },
    {
      "cell_type": "markdown",
      "metadata": {
        "id": "lHYUMoNUOEQk"
      },
      "source": [
        "#**ValueError:** In Python ValueError is raised when the type of passed argument to a function is unexpected/incorrect."
      ]
    },
    {
      "cell_type": "markdown",
      "metadata": {
        "id": "RaU73vkjQoya"
      },
      "source": [
        "#**Converting Data Type on Existing Arrays**"
      ]
    },
    {
      "cell_type": "markdown",
      "metadata": {
        "id": "hFYjHuSFQ2CU"
      },
      "source": [
        "The best way to change the data type of an existing array, is to make a copy of the array with the astype() method.\n",
        "\n",
        "The astype() function creates a copy of the array, and allows you to specify the data type as a parameter.\n",
        "\n",
        "The data type can be specified using a string, like 'f' for float, 'i' for integer etc. or you can use the data type directly like float for float and int for integer."
      ]
    },
    {
      "cell_type": "markdown",
      "metadata": {
        "id": "-S4AoZcxRNyy"
      },
      "source": [
        "# Change data type from float to integer by using 'i' as parameter value:"
      ]
    },
    {
      "cell_type": "code",
      "execution_count": 212,
      "metadata": {
        "colab": {
          "base_uri": "https://localhost:8080/"
        },
        "id": "w-jlliR3NYh4",
        "outputId": "fc884ee2-bf01-48e1-833b-e432dbe4cda1"
      },
      "outputs": [
        {
          "output_type": "stream",
          "name": "stdout",
          "text": [
            "[1 2 3]\n",
            "int32\n"
          ]
        }
      ],
      "source": [
        "float_arr = np.array([1.1, 2.1, 3.1])\n",
        "newarr = float_arr.astype('i')\n",
        "print(newarr)\n",
        "print(newarr.dtype)"
      ]
    },
    {
      "cell_type": "markdown",
      "metadata": {
        "id": "njIzrKvPRM55"
      },
      "source": [
        "#Change data type from float to integer by using int as parameter value:"
      ]
    },
    {
      "cell_type": "code",
      "execution_count": 213,
      "metadata": {
        "colab": {
          "base_uri": "https://localhost:8080/"
        },
        "id": "RBvMI0SqSoKw",
        "outputId": "6474f202-134d-427c-b52a-54a3078cacab"
      },
      "outputs": [
        {
          "output_type": "stream",
          "name": "stdout",
          "text": [
            "[1 2 3]\n",
            "int32\n"
          ]
        }
      ],
      "source": [
        "newarr1 = float_arr.astype(int)\n",
        "\n",
        "print(newarr1)\n",
        "print(newarr.dtype)"
      ]
    },
    {
      "cell_type": "markdown",
      "metadata": {
        "id": "H3jqioLLTkLZ"
      },
      "source": [
        "#Change data type from integer to boolean"
      ]
    },
    {
      "cell_type": "code",
      "execution_count": 214,
      "metadata": {
        "colab": {
          "base_uri": "https://localhost:8080/"
        },
        "id": "U254s3C5TrYe",
        "outputId": "160bc40d-7fc9-4fe5-ba46-7bf82b876265"
      },
      "outputs": [
        {
          "output_type": "stream",
          "name": "stdout",
          "text": [
            "[ True False  True]\n",
            "bool\n"
          ]
        }
      ],
      "source": [
        "arr_bool = np.array([1,0,3])\n",
        "new_bool = arr_bool.astype(bool)\n",
        "\n",
        "print(new_bool)\n",
        "print(new_bool.dtype)"
      ]
    },
    {
      "cell_type": "markdown",
      "metadata": {
        "id": "sFaAHhf_XAYS"
      },
      "source": [
        "#NumPy Array Copy vs View"
      ]
    },
    {
      "cell_type": "markdown",
      "metadata": {
        "id": "EnxSPBHeXQTd"
      },
      "source": [
        "#COPY:"
      ]
    },
    {
      "cell_type": "markdown",
      "metadata": {
        "id": "aYDvdnm1XTvs"
      },
      "source": [
        "#Make a copy, change the original array, and display both arrays:"
      ]
    },
    {
      "cell_type": "code",
      "execution_count": 215,
      "metadata": {
        "colab": {
          "base_uri": "https://localhost:8080/"
        },
        "id": "-y_CbFBHUTi-",
        "outputId": "0c34041b-1586-4e1f-d841-8fde575010b2"
      },
      "outputs": [
        {
          "output_type": "stream",
          "name": "stdout",
          "text": [
            "[1 2 3 4 5 6]\n",
            "[1 2 3 4 5]\n"
          ]
        }
      ],
      "source": [
        "copy_arr = np.array([1,2,3,4,5])\n",
        "x = copy_arr.copy()\n",
        "copy_arr[0] = 42\n",
        "print(arr1)\n",
        "print(x)"
      ]
    },
    {
      "cell_type": "markdown",
      "metadata": {
        "id": "8qM_Aa9JYKWc"
      },
      "source": [
        "#**!The copy SHOULD NOT be affected by the changes made to the original array.**"
      ]
    },
    {
      "cell_type": "markdown",
      "metadata": {
        "id": "Q7QKCIhaYlEW"
      },
      "source": [
        "#**VIEW:**"
      ]
    },
    {
      "cell_type": "markdown",
      "metadata": {
        "id": "L1D1tq4DYtO5"
      },
      "source": [
        "#Make a view, change the original array, and display both arrays:"
      ]
    },
    {
      "cell_type": "code",
      "execution_count": 216,
      "metadata": {
        "colab": {
          "base_uri": "https://localhost:8080/"
        },
        "id": "yCa4igIEYqVN",
        "outputId": "d9aa08fe-7744-41f3-a7b6-e55c19a612d6"
      },
      "outputs": [
        {
          "output_type": "stream",
          "name": "stdout",
          "text": [
            "[42  2  3  4  5]\n",
            "[42  2  3  4  5]\n"
          ]
        }
      ],
      "source": [
        "arr_copy = np.array([1,2,3,4,5])\n",
        "c = arr_copy.view()\n",
        "arr_copy[0] = 42\n",
        "\n",
        "print(arr_copy)\n",
        "print(c)"
      ]
    },
    {
      "cell_type": "markdown",
      "metadata": {
        "id": "Y7sFsMy3bMCK"
      },
      "source": [
        "#**!The view SHOULD be affected by the changes made to the original array.**"
      ]
    },
    {
      "cell_type": "markdown",
      "metadata": {
        "id": "jCkjWAjuc0-l"
      },
      "source": [
        "#Check  if Array Owns its Data"
      ]
    },
    {
      "cell_type": "markdown",
      "metadata": {
        "id": "Jw-YpHsSdI8T"
      },
      "source": [
        "print the value of the base attribute to check if an array owns it's data or not:"
      ]
    },
    {
      "cell_type": "code",
      "execution_count": 217,
      "metadata": {
        "colab": {
          "base_uri": "https://localhost:8080/"
        },
        "id": "IWP4oKTLdXjR",
        "outputId": "1e56a2af-b28d-481e-8fbb-12113e51e608"
      },
      "outputs": [
        {
          "output_type": "stream",
          "name": "stdout",
          "text": [
            "None\n",
            "[1 2 3 4 5]\n"
          ]
        }
      ],
      "source": [
        "check_own = np.array([1,2,3,4,5])\n",
        "\n",
        "m = check_own.copy()\n",
        "v = check_own.view()\n",
        "\n",
        "print(m.base)\n",
        "print(v.base)"
      ]
    },
    {
      "cell_type": "markdown",
      "metadata": {
        "id": "rkCHF5_veEWT"
      },
      "source": [
        "#!The copy returns **None.**\n",
        "#!The view returns the original array.\n"
      ]
    },
    {
      "cell_type": "markdown",
      "metadata": {
        "id": "VypdXTKz5VTm"
      },
      "source": [
        "#**NumPy Array Shape**"
      ]
    },
    {
      "cell_type": "markdown",
      "metadata": {
        "id": "lRg3O0E46MC2"
      },
      "source": [
        "#Print the shape of a 2-D array:"
      ]
    },
    {
      "cell_type": "code",
      "execution_count": 218,
      "metadata": {
        "colab": {
          "base_uri": "https://localhost:8080/"
        },
        "id": "IQXGUKbic-BZ",
        "outputId": "ad9f8489-5eb9-4c19-e505-4fe47cd13af1"
      },
      "outputs": [
        {
          "output_type": "stream",
          "name": "stdout",
          "text": [
            "(2, 4)\n"
          ]
        }
      ],
      "source": [
        "arr_shape = np.array([[1,2,3,4,], [5,6,7,8]])\n",
        "print(arr_shape.shape)"
      ]
    },
    {
      "cell_type": "markdown",
      "metadata": {
        "id": "sMNUbV4d6Zzv"
      },
      "source": [
        "#Create an array with 5 dimensions using ndmin using a vector whith values 1,2,3,4 and verify that last dimension has vlaue 4:"
      ]
    },
    {
      "cell_type": "code",
      "execution_count": 219,
      "metadata": {
        "colab": {
          "base_uri": "https://localhost:8080/"
        },
        "id": "c9ZN1wJC6zGc",
        "outputId": "ab998c5d-222f-4bb8-db7c-2c647db8a68f"
      },
      "outputs": [
        {
          "output_type": "stream",
          "name": "stdout",
          "text": [
            "[[[[[1 2 3 4]]]]]\n"
          ]
        }
      ],
      "source": [
        "arr_vic = np.array([1,2,3,4], ndmin=5)\n",
        "print(arr_vic)"
      ]
    },
    {
      "cell_type": "markdown",
      "metadata": {
        "id": "1Oc1x2v-8Sv1"
      },
      "source": [
        "#**NumPy Array Reshaping**"
      ]
    },
    {
      "cell_type": "markdown",
      "metadata": {
        "id": "iUE-BmAr_p8n"
      },
      "source": [
        "# Convert the follwing 1-D array with 12 elements into a 2-D array.\n",
        "# The outermost dimension will have 4 arrays, each with 3 elements:"
      ]
    },
    {
      "cell_type": "code",
      "execution_count": 220,
      "metadata": {
        "colab": {
          "base_uri": "https://localhost:8080/"
        },
        "id": "nLlW-OX28c1F",
        "outputId": "665b651d-31c1-4608-fa81-01079de648da"
      },
      "outputs": [
        {
          "output_type": "stream",
          "name": "stdout",
          "text": [
            "[[ 1  2  3]\n",
            " [ 4  5  6]\n",
            " [ 7  8  9]\n",
            " [10 11 12]]\n"
          ]
        }
      ],
      "source": [
        "arr_shape = np.array([1,2,3,4,5,6,7,8,9,10,11,12])\n",
        "newarr = arr_shape.reshape(4, 3)\n",
        "print(newarr)"
      ]
    },
    {
      "cell_type": "markdown",
      "metadata": {
        "id": "stxHWOicDb7b"
      },
      "source": [
        "#Reshape From 1-D to 3-D"
      ]
    },
    {
      "cell_type": "markdown",
      "metadata": {
        "id": "AGLPBpvrDlhn"
      },
      "source": [
        "Convert the following 1-D array with 12 elements into a 3-D arrays that contains 3 arrays, each with 2 elements:"
      ]
    },
    {
      "cell_type": "code",
      "execution_count": 221,
      "metadata": {
        "colab": {
          "base_uri": "https://localhost:8080/"
        },
        "id": "F2tLevWhD7fx",
        "outputId": "10266ce7-bbe4-4338-823f-885626fd1bbb"
      },
      "outputs": [
        {
          "output_type": "stream",
          "name": "stdout",
          "text": [
            "[[[ 1  2]\n",
            "  [ 3  4]\n",
            "  [ 5  6]]\n",
            "\n",
            " [[ 7  8]\n",
            "  [ 9 10]\n",
            "  [11 12]]]\n"
          ]
        }
      ],
      "source": [
        "newarr1 = arr_shape.reshape(2,3,2)\n",
        "print(newarr1)"
      ]
    },
    {
      "cell_type": "markdown",
      "metadata": {
        "id": "WV1KMtcvFuZm"
      },
      "source": [
        "#Returns Copy or View"
      ]
    },
    {
      "cell_type": "markdown",
      "metadata": {
        "id": "ryx3CP_pF2Is"
      },
      "source": [
        "Check if the returnd array is a copy or a view"
      ]
    },
    {
      "cell_type": "code",
      "execution_count": 222,
      "metadata": {
        "colab": {
          "base_uri": "https://localhost:8080/"
        },
        "id": "HSVfC5cwE-xo",
        "outputId": "a8bf0906-2b40-4318-e702-f0073dcfb644"
      },
      "outputs": [
        {
          "output_type": "stream",
          "name": "stdout",
          "text": [
            "[1 2 3 4 5 6 7 8]\n"
          ]
        }
      ],
      "source": [
        "arr_view_or_copy = np.array([1,2,3,4,5,6,7,8])\n",
        "\n",
        "print(arr_view_or_copy.reshape(2, 4).base)"
      ]
    },
    {
      "cell_type": "markdown",
      "metadata": {
        "id": "S6BMO1bEHDFU"
      },
      "source": [
        "#Unkown Dimension"
      ]
    },
    {
      "cell_type": "markdown",
      "metadata": {
        "id": "UsY3j9K0HIz2"
      },
      "source": [
        "convert 1-D array with 8 elements to 3-D array with 2x2 elements:"
      ]
    },
    {
      "cell_type": "code",
      "execution_count": 223,
      "metadata": {
        "colab": {
          "base_uri": "https://localhost:8080/"
        },
        "id": "3T9pp_UBHaup",
        "outputId": "e7b6ae95-81c5-421a-dad5-1501db617122"
      },
      "outputs": [
        {
          "output_type": "stream",
          "name": "stdout",
          "text": [
            "[[[1 2]\n",
            "  [3 4]]\n",
            "\n",
            " [[5 6]\n",
            "  [7 8]]]\n"
          ]
        }
      ],
      "source": [
        "newcopyarr = arr_view_or_copy.reshape(2,2,-1)\n",
        "print(newcopyarr)"
      ]
    },
    {
      "cell_type": "markdown",
      "metadata": {
        "id": "J6u6nMgIIeai"
      },
      "source": [
        "#**!We can not pass -1 to more then one dimension.**"
      ]
    },
    {
      "cell_type": "markdown",
      "metadata": {
        "id": "PFZxEUcBI2WQ"
      },
      "source": [
        "#Flatteing the arrays"
      ]
    },
    {
      "cell_type": "markdown",
      "metadata": {
        "id": "Ck_cHByaI9E6"
      },
      "source": [
        "convert the array into a 1-D array:"
      ]
    },
    {
      "cell_type": "code",
      "execution_count": 224,
      "metadata": {
        "colab": {
          "base_uri": "https://localhost:8080/"
        },
        "id": "bBsyzWBxI8Wi",
        "outputId": "2b374bed-5b76-4ace-a1c5-1ce2d136e1e3"
      },
      "outputs": [
        {
          "output_type": "stream",
          "name": "stdout",
          "text": [
            "[1 2 3 4 5 6]\n"
          ]
        }
      ],
      "source": [
        "arr_1D = np.array([[1,2,3], [4,5,6]])\n",
        "new1d = arr_1D.reshape(-1)\n",
        "print(new1d)"
      ]
    },
    {
      "cell_type": "markdown",
      "metadata": {
        "id": "_hiKfzaoJqvY"
      },
      "source": [
        "#**!There are a lot of functions for changing the shapes of arrays in numPy flatten, ravel and also for rearranging the elements rot90, flip,fliplr,flipud etc. these fall under Intermediate to Advanced section of numpy"
      ]
    },
    {
      "cell_type": "markdown",
      "metadata": {
        "id": "Bpf6dEtpKvR2"
      },
      "source": [
        "#**NumPy Array lterating**"
      ]
    },
    {
      "cell_type": "markdown",
      "metadata": {
        "id": "yGi38IovK2Qp"
      },
      "source": [
        "lterate on the elements of the following 1-D array:"
      ]
    },
    {
      "cell_type": "code",
      "execution_count": 225,
      "metadata": {
        "colab": {
          "base_uri": "https://localhost:8080/"
        },
        "id": "CAtfgOYLJp84",
        "outputId": "ea8dd7f8-4c05-4b85-ca4b-223f911dae03"
      },
      "outputs": [
        {
          "output_type": "stream",
          "name": "stdout",
          "text": [
            "1\n",
            "2\n",
            "3\n"
          ]
        }
      ],
      "source": [
        "arrLoop = np.array([1,2,3])\n",
        "\n",
        "for x in arrLoop:\n",
        "  print(x)"
      ]
    },
    {
      "cell_type": "markdown",
      "metadata": {
        "id": "LFqIfFEqLjTI"
      },
      "source": [
        "#letrating 2-D Arrays"
      ]
    },
    {
      "cell_type": "code",
      "execution_count": 226,
      "metadata": {
        "colab": {
          "base_uri": "https://localhost:8080/"
        },
        "id": "2_ghWaK0LoN8",
        "outputId": "13b192e8-82b1-44b0-b18b-32a5ac417647"
      },
      "outputs": [
        {
          "output_type": "stream",
          "name": "stdout",
          "text": [
            "[1 2 3]\n",
            "[4 5 6]\n"
          ]
        }
      ],
      "source": [
        "arr2d = np.array([[1,2,3], [4,5,6]])\n",
        "\n",
        "for x in arr2d:\n",
        "  print(x)"
      ]
    },
    {
      "cell_type": "markdown",
      "metadata": {
        "id": "53kT4lR7MKA3"
      },
      "source": [
        "#**If we iterate on a n-D array it will go thrugh n-1th dimension on by one.**"
      ]
    },
    {
      "cell_type": "markdown",
      "metadata": {
        "id": "LobWfHZ9MdWV"
      },
      "source": [
        "lterate on each scalar element of the 2-D array:"
      ]
    },
    {
      "cell_type": "code",
      "execution_count": 227,
      "metadata": {
        "colab": {
          "base_uri": "https://localhost:8080/"
        },
        "id": "xSL-QtvtMl33",
        "outputId": "ff41a112-9330-4f98-ca6f-95e5cf0ec85f"
      },
      "outputs": [
        {
          "output_type": "stream",
          "name": "stdout",
          "text": [
            "1\n",
            "2\n",
            "3\n",
            "4\n",
            "5\n",
            "6\n"
          ]
        }
      ],
      "source": [
        "for x in arr2d:\n",
        "  for y in x:\n",
        "    print(y)"
      ]
    },
    {
      "cell_type": "markdown",
      "metadata": {
        "id": "nwLWWi4iNDRr"
      },
      "source": [
        "lterating 3-D Arrays"
      ]
    },
    {
      "cell_type": "code",
      "execution_count": 228,
      "metadata": {
        "colab": {
          "base_uri": "https://localhost:8080/"
        },
        "id": "TEhQ310fNIbR",
        "outputId": "0254adec-9c33-4dc6-e282-c418ebd53991"
      },
      "outputs": [
        {
          "output_type": "stream",
          "name": "stdout",
          "text": [
            "[[1 2 3]\n",
            " [4 5 6]]\n",
            "[[ 7  8  9]\n",
            " [10 11 12]]\n"
          ]
        }
      ],
      "source": [
        "arr3d = np.array([[[1,2,3],[4,5,6]],[[7,8,9],[10,11,12]]])\n",
        "\n",
        "for x in arr3d:\n",
        "  print(x)"
      ]
    },
    {
      "cell_type": "markdown",
      "metadata": {
        "id": "K9Bo0tvWN9kW"
      },
      "source": [
        "lterate down to the scalars:"
      ]
    },
    {
      "cell_type": "code",
      "execution_count": 229,
      "metadata": {
        "colab": {
          "base_uri": "https://localhost:8080/"
        },
        "id": "63NvHD_vN8ym",
        "outputId": "22c8a361-9713-49ff-f829-0a3771379cc4"
      },
      "outputs": [
        {
          "output_type": "stream",
          "name": "stdout",
          "text": [
            "1\n",
            "2\n",
            "3\n",
            "4\n",
            "5\n",
            "6\n",
            "7\n",
            "8\n",
            "9\n",
            "10\n",
            "11\n",
            "12\n"
          ]
        }
      ],
      "source": [
        "for x in arr3d:\n",
        "  for y in x:\n",
        "    for z in y:\n",
        "      print(z)"
      ]
    },
    {
      "cell_type": "markdown",
      "metadata": {
        "id": "iIJk-dFkOmzF"
      },
      "source": [
        "lterate through the following 3-D array:"
      ]
    },
    {
      "cell_type": "code",
      "execution_count": 230,
      "metadata": {
        "colab": {
          "base_uri": "https://localhost:8080/"
        },
        "id": "FoU3IZ8AOvai",
        "outputId": "65986166-d3d6-4972-e3d3-009d96eca5a9"
      },
      "outputs": [
        {
          "output_type": "stream",
          "name": "stdout",
          "text": [
            "1\n",
            "2\n",
            "3\n",
            "4\n",
            "5\n",
            "6\n",
            "7\n",
            "8\n"
          ]
        }
      ],
      "source": [
        "arrn = np.array([[[1,2],[3,4]],[[5,6],[7,8]]])\n",
        "\n",
        "for x in np.nditer(arrn):\n",
        "  print(x)"
      ]
    },
    {
      "cell_type": "markdown",
      "metadata": {
        "id": "YlCREDZqPXYS"
      },
      "source": [
        "#**lterating Array With Differnt Data Types**"
      ]
    },
    {
      "cell_type": "markdown",
      "metadata": {
        "id": "WCp2-7jdPjPG"
      },
      "source": [
        "#lterate through the array as a string:"
      ]
    },
    {
      "cell_type": "code",
      "execution_count": 231,
      "metadata": {
        "colab": {
          "base_uri": "https://localhost:8080/"
        },
        "id": "kiU_ipChPh2D",
        "outputId": "5c04e17a-57b9-4ac3-a208-85bf35e31e57"
      },
      "outputs": [
        {
          "output_type": "stream",
          "name": "stdout",
          "text": [
            "b'1'\n",
            "b'2'\n",
            "b'3'\n",
            "b'4'\n",
            "b'5'\n",
            "b'6'\n"
          ]
        }
      ],
      "source": [
        "for x in np.nditer(arr1, flags=['buffered'], op_dtypes=['S']):\n",
        "  print(x)"
      ]
    },
    {
      "cell_type": "markdown",
      "metadata": {
        "id": "0QT0MyKgRM-_"
      },
      "source": [
        "#lterating With Differnt Step Size"
      ]
    },
    {
      "cell_type": "code",
      "execution_count": 232,
      "metadata": {
        "colab": {
          "base_uri": "https://localhost:8080/"
        },
        "id": "gm4NN-atRV1Y",
        "outputId": "a49f68b6-6f07-4027-bac0-fd107bd3d921"
      },
      "outputs": [
        {
          "output_type": "stream",
          "name": "stdout",
          "text": [
            "1\n",
            "3\n",
            "5\n",
            "7\n"
          ]
        }
      ],
      "source": [
        "for x in np.nditer(arr2[:, ::2]):\n",
        "  print(x)"
      ]
    },
    {
      "cell_type": "markdown",
      "metadata": {
        "id": "0kEBuHHwSSP8"
      },
      "source": [
        "#Enumerated lteraion Using ndenumerate()"
      ]
    },
    {
      "cell_type": "markdown",
      "metadata": {
        "id": "ibAM-YEvSt9v"
      },
      "source": [
        "Enumerate on following 1D arrays elements:"
      ]
    },
    {
      "cell_type": "code",
      "execution_count": 233,
      "metadata": {
        "colab": {
          "base_uri": "https://localhost:8080/"
        },
        "id": "ReZ6fm3cRqfh",
        "outputId": "9adae668-8c86-48ed-e9bf-cd503a2d271d"
      },
      "outputs": [
        {
          "output_type": "stream",
          "name": "stdout",
          "text": [
            "(0,) 1\n",
            "(1,) 2\n",
            "(2,) 3\n",
            "(3,) 4\n",
            "(4,) 5\n",
            "(5,) 6\n"
          ]
        }
      ],
      "source": [
        "for idx, x in np.ndenumerate(arr1):\n",
        "  print(idx,x)"
      ]
    },
    {
      "cell_type": "markdown",
      "metadata": {
        "id": "tEkb745FTMEN"
      },
      "source": [
        "#Enumerate on following 2D array's elements"
      ]
    },
    {
      "cell_type": "code",
      "execution_count": 234,
      "metadata": {
        "colab": {
          "base_uri": "https://localhost:8080/"
        },
        "id": "TW_sI7AaTUIH",
        "outputId": "6624c2a3-6688-4fb2-95a9-2c31b67578b7"
      },
      "outputs": [
        {
          "output_type": "stream",
          "name": "stdout",
          "text": [
            "(0, 0) 1\n",
            "(0, 1) 2\n",
            "(0, 2) 3\n",
            "(0, 3) 4\n",
            "(1, 0) 5\n",
            "(1, 1) 6\n",
            "(1, 2) 7\n",
            "(1, 3) 8\n"
          ]
        }
      ],
      "source": [
        "for idx, x in np.ndenumerate(arr2):\n",
        "  print(idx, x)"
      ]
    },
    {
      "cell_type": "markdown",
      "metadata": {
        "id": "81YiWnb-T4pp"
      },
      "source": [
        "#**NumPy Joinig Array**"
      ]
    },
    {
      "cell_type": "code",
      "execution_count": 235,
      "metadata": {
        "colab": {
          "base_uri": "https://localhost:8080/"
        },
        "id": "-9AC-wyUULUh",
        "outputId": "bbdcd627-0942-414c-c830-6cec109ee807"
      },
      "outputs": [
        {
          "output_type": "stream",
          "name": "stdout",
          "text": [
            "[1 2 3 4 5 6]\n"
          ]
        }
      ],
      "source": [
        "arr01 = np.array([1,2,3])\n",
        "arr02 = np.array([4,5,6])\n",
        "\n",
        "arrResult = np.concatenate((arr01, arr02))\n",
        "print(arrResult)"
      ]
    },
    {
      "cell_type": "markdown",
      "metadata": {
        "id": "vyZQF9zEVGmt"
      },
      "source": [
        "#Join two 2-D arrays along rows(axis=1):"
      ]
    },
    {
      "cell_type": "code",
      "execution_count": 236,
      "metadata": {
        "id": "l9l4bSvJUrKD",
        "colab": {
          "base_uri": "https://localhost:8080/"
        },
        "outputId": "41067544-4304-464b-b470-96d6ecbe6be5"
      },
      "outputs": [
        {
          "output_type": "stream",
          "name": "stdout",
          "text": [
            "[[1 2 5 6]\n",
            " [3 4 7 8]]\n"
          ]
        }
      ],
      "source": [
        "from re import A\n",
        "arr03 = np.array([[1,2],[3,4]])\n",
        "arr04 = np.array([[5,6],[7,8]])\n",
        "\n",
        "arrresult1 = np.concatenate((arr03, arr04), axis=1)\n",
        "print(arrresult1)"
      ]
    },
    {
      "cell_type": "markdown",
      "metadata": {
        "id": "AWcmdJg_Wc_f"
      },
      "source": [
        "#Joining Arrays Using Stack Functions"
      ]
    },
    {
      "cell_type": "code",
      "execution_count": 237,
      "metadata": {
        "colab": {
          "base_uri": "https://localhost:8080/"
        },
        "id": "BdSmjFhBWpbO",
        "outputId": "b6a27cf6-e26f-42ac-ec8a-518ab66f22ab"
      },
      "outputs": [
        {
          "output_type": "stream",
          "name": "stdout",
          "text": [
            "[[1 4]\n",
            " [2 5]\n",
            " [3 6]]\n"
          ]
        }
      ],
      "source": [
        "arrResult2 = np.stack((arr01, arr02), axis=1)\n",
        "print(arrResult2)"
      ]
    },
    {
      "cell_type": "markdown",
      "metadata": {
        "id": "A3_2Mim7Zlzt"
      },
      "source": [
        "#Stacking Along Rows"
      ]
    },
    {
      "cell_type": "code",
      "execution_count": 238,
      "metadata": {
        "colab": {
          "base_uri": "https://localhost:8080/"
        },
        "id": "k7Eh8W5CZuSK",
        "outputId": "9e5df2f3-a486-418f-eca1-327120042ac7"
      },
      "outputs": [
        {
          "output_type": "stream",
          "name": "stdout",
          "text": [
            "[1 2 3 4 5 6]\n"
          ]
        }
      ],
      "source": [
        "arrResult3 = np.hstack((arr01, arr02))\n",
        "\n",
        "print(arrResult3)"
      ]
    },
    {
      "cell_type": "markdown",
      "metadata": {
        "id": "aeM5PH-eaWzW"
      },
      "source": [
        "#Stacking Along Columns"
      ]
    },
    {
      "cell_type": "code",
      "execution_count": 239,
      "metadata": {
        "colab": {
          "base_uri": "https://localhost:8080/"
        },
        "id": "qWbrXhtUapwZ",
        "outputId": "c9c050a4-4560-4cbb-9ac3-fe4acb799b49"
      },
      "outputs": [
        {
          "output_type": "stream",
          "name": "stdout",
          "text": [
            "[[1 2 3]\n",
            " [4 5 6]]\n"
          ]
        }
      ],
      "source": [
        "arrResult4 = np.vstack((arr01, arr02))\n",
        "print(arrResult4)"
      ]
    },
    {
      "cell_type": "markdown",
      "metadata": {
        "id": "EWBePrcSbBKZ"
      },
      "source": [
        "#Stacking Along Height (depth)"
      ]
    },
    {
      "cell_type": "code",
      "execution_count": 240,
      "metadata": {
        "id": "MRwRmlaPbJMX",
        "colab": {
          "base_uri": "https://localhost:8080/"
        },
        "outputId": "d33e0a9f-1b72-4658-e00f-1bbf5efcad0a"
      },
      "outputs": [
        {
          "output_type": "stream",
          "name": "stdout",
          "text": [
            "[[[1 4]\n",
            "  [2 5]\n",
            "  [3 6]]]\n"
          ]
        }
      ],
      "source": [
        "arrResult5 = np.dstack((arr01, arr02))\n",
        "print(arrResult5)"
      ]
    },
    {
      "cell_type": "markdown",
      "metadata": {
        "id": "Zfz3LoF9dfCZ"
      },
      "source": [
        "#**NumPy Splitting Array**"
      ]
    },
    {
      "cell_type": "code",
      "execution_count": 241,
      "metadata": {
        "colab": {
          "base_uri": "https://localhost:8080/"
        },
        "id": "4elJkCdDdkwZ",
        "outputId": "234f131e-6838-424d-9b36-f1e94d77899a"
      },
      "outputs": [
        {
          "output_type": "stream",
          "name": "stdout",
          "text": [
            "[array([1, 2]), array([3, 4]), array([5, 6])]\n"
          ]
        }
      ],
      "source": [
        "newSplit = np.array_split(arr1, 3)\n",
        "\n",
        "print(newSplit)"
      ]
    },
    {
      "cell_type": "markdown",
      "metadata": {
        "id": "igKC22QdfuKe"
      },
      "source": [
        "#**The return vlaue is a list containing three arrays.**"
      ]
    },
    {
      "cell_type": "markdown",
      "metadata": {
        "id": "rGdGi4h9gDvK"
      },
      "source": [
        "#Split the array in 4 parts:"
      ]
    },
    {
      "cell_type": "code",
      "execution_count": 242,
      "metadata": {
        "colab": {
          "base_uri": "https://localhost:8080/"
        },
        "id": "Y4988gtieU6R",
        "outputId": "cd2cdd14-1c0c-4ac9-b090-6e3319e274a9"
      },
      "outputs": [
        {
          "output_type": "stream",
          "name": "stdout",
          "text": [
            "[array([1, 2]), array([3, 4]), array([5]), array([6])]\n"
          ]
        }
      ],
      "source": [
        "newSplit1 = np.array_split(arr1, 4)\n",
        "print(newSplit1)"
      ]
    },
    {
      "cell_type": "markdown",
      "metadata": {
        "id": "-V7wiPaVgk1N"
      },
      "source": [
        "#**!We also have the method split() avaliable but it will not adjust the elements when elements are less in source array for splitting like in example above, array_split() worked properly but split() would fail**"
      ]
    },
    {
      "cell_type": "markdown",
      "metadata": {
        "id": "G_2apHpphgx6"
      },
      "source": [
        "#Split Into Arrays"
      ]
    },
    {
      "cell_type": "markdown",
      "metadata": {
        "id": "LZ_4XU6Whn2g"
      },
      "source": [
        "#Access the spitted arrays:"
      ]
    },
    {
      "cell_type": "code",
      "execution_count": 243,
      "metadata": {
        "colab": {
          "base_uri": "https://localhost:8080/"
        },
        "id": "vh8Y60sHhWj5",
        "outputId": "41005ffe-98e9-4711-a2f0-abc80c8262de"
      },
      "outputs": [
        {
          "output_type": "stream",
          "name": "stdout",
          "text": [
            "[1 2]\n",
            "[3 4]\n",
            "[5 6]\n"
          ]
        }
      ],
      "source": [
        "newSplit3 = np.array_split(arr1, 3)\n",
        "\n",
        "print(newSplit3[0])\n",
        "print(newSplit3[1])\n",
        "print(newSplit3[2])"
      ]
    },
    {
      "cell_type": "markdown",
      "metadata": {
        "id": "AnAkh39BiX6c"
      },
      "source": [
        "#Splitting 2-D Arrays"
      ]
    },
    {
      "cell_type": "markdown",
      "metadata": {
        "id": "lULXT-OVievf"
      },
      "source": [
        "Split the 2-D array into three 2-D arrays."
      ]
    },
    {
      "cell_type": "code",
      "execution_count": 244,
      "metadata": {
        "colab": {
          "base_uri": "https://localhost:8080/"
        },
        "id": "UsOuij3Piccw",
        "outputId": "30f982c3-ec8b-41a5-a930-e9d195bd8e7c"
      },
      "outputs": [
        {
          "output_type": "stream",
          "name": "stdout",
          "text": [
            "[array([[1, 2],\n",
            "       [3, 4]]), array([[5, 6],\n",
            "       [7, 8]]), array([[ 9, 10],\n",
            "       [11, 12]])]\n"
          ]
        }
      ],
      "source": [
        "arrSplit1 = np.array([[1,2], [3,4],[5,6],[7,8],[9,10],[11,12]])\n",
        "\n",
        "newSplit4 = np.array_split(arrSplit1, 3)\n",
        "print(newSplit4)"
      ]
    },
    {
      "cell_type": "markdown",
      "metadata": {
        "id": "cErv23XXjugg"
      },
      "source": [
        "#Split the 2-D array into three 2-D arrys."
      ]
    },
    {
      "cell_type": "code",
      "execution_count": 245,
      "metadata": {
        "colab": {
          "base_uri": "https://localhost:8080/"
        },
        "id": "dGonY_rNkvHx",
        "outputId": "489e7d06-25a9-4c80-d91c-8c7f0ae0fea1"
      },
      "outputs": [
        {
          "output_type": "stream",
          "name": "stdout",
          "text": [
            "[array([[1, 2, 3],\n",
            "       [4, 5, 6]]), array([[ 7,  8,  9],\n",
            "       [10, 11, 12]]), array([[13, 14, 15],\n",
            "       [16, 17, 18]])]\n"
          ]
        }
      ],
      "source": [
        "arrSp = np.array([[1,2,3], [4,5,6],[7,8,9],[10,11,12],[13,14,15],[16,17,18]])\n",
        "\n",
        "newarrSp = np.array_split(arrSp, 3)\n",
        "print(newarrSp)"
      ]
    },
    {
      "cell_type": "markdown",
      "metadata": {
        "id": "n9Uj55kZm7uW"
      },
      "source": [
        "#Split the 2-D array into three 2-D arrays along rows."
      ]
    },
    {
      "cell_type": "code",
      "execution_count": 246,
      "metadata": {
        "colab": {
          "base_uri": "https://localhost:8080/"
        },
        "id": "btXnmkTEncHD",
        "outputId": "13b208fe-1576-4028-a1b0-c39b1be7562f"
      },
      "outputs": [
        {
          "output_type": "stream",
          "name": "stdout",
          "text": [
            "[array([[ 1],\n",
            "       [ 4],\n",
            "       [ 7],\n",
            "       [10],\n",
            "       [13],\n",
            "       [16]]), array([[ 2],\n",
            "       [ 5],\n",
            "       [ 8],\n",
            "       [11],\n",
            "       [14],\n",
            "       [17]]), array([[ 3],\n",
            "       [ 6],\n",
            "       [ 9],\n",
            "       [12],\n",
            "       [15],\n",
            "       [18]])]\n"
          ]
        }
      ],
      "source": [
        "newSp1 = np.array_split(arrSp, 3, axis = 1)\n",
        "\n",
        "print(newSp1)"
      ]
    },
    {
      "cell_type": "markdown",
      "metadata": {
        "id": "hiGmfwE7oqFU"
      },
      "source": [
        "#!An alternate solution is using hsplit() opposite of hstack()"
      ]
    },
    {
      "cell_type": "markdown",
      "metadata": {
        "id": "uUjDAjL2o8Ja"
      },
      "source": [
        "Use the hsplit() method to split the 2-D array into three 2-D arrays along rows."
      ]
    },
    {
      "cell_type": "code",
      "execution_count": 247,
      "metadata": {
        "colab": {
          "base_uri": "https://localhost:8080/"
        },
        "id": "8-Xle9rYo3rT",
        "outputId": "5844c24c-6db9-4339-ebdf-8674872eb97a"
      },
      "outputs": [
        {
          "output_type": "stream",
          "name": "stdout",
          "text": [
            "[array([[ 1],\n",
            "       [ 4],\n",
            "       [ 7],\n",
            "       [10],\n",
            "       [13],\n",
            "       [16]]), array([[ 2],\n",
            "       [ 5],\n",
            "       [ 8],\n",
            "       [11],\n",
            "       [14],\n",
            "       [17]]), array([[ 3],\n",
            "       [ 6],\n",
            "       [ 9],\n",
            "       [12],\n",
            "       [15],\n",
            "       [18]])]\n"
          ]
        }
      ],
      "source": [
        "newarrHsp = np.hsplit(arrSp, 3)\n",
        "print(newarrHsp)"
      ]
    },
    {
      "cell_type": "markdown",
      "metadata": {
        "id": "xSR0seahp174"
      },
      "source": [
        "#**!Similar alternates to vstack() and dstack()are available as vsplit() and dsplit()**"
      ]
    },
    {
      "cell_type": "markdown",
      "metadata": {
        "id": "cJaNo3PzqgYx"
      },
      "source": [
        "#**NumPy Searching Arrays**"
      ]
    },
    {
      "cell_type": "markdown",
      "metadata": {
        "id": "TxPANH8yqqzg"
      },
      "source": [
        "Find the indexes where the value is 4:"
      ]
    },
    {
      "cell_type": "code",
      "execution_count": 248,
      "metadata": {
        "colab": {
          "base_uri": "https://localhost:8080/"
        },
        "id": "xpEoOfwcpjNC",
        "outputId": "ed5631a5-1b45-4b9c-a96c-ac8e8a680856"
      },
      "outputs": [
        {
          "output_type": "stream",
          "name": "stdout",
          "text": [
            "(array([3, 5, 6]),)\n"
          ]
        }
      ],
      "source": [
        "arrSearch = np.array([1,2,3,4,5,4,4])\n",
        "\n",
        "x = np.where(arrSearch == 4)\n",
        "\n",
        "print(x)"
      ]
    },
    {
      "cell_type": "markdown",
      "metadata": {
        "id": "45YtWpe23Q3H"
      },
      "source": [
        "#**!The example above will return a tuple: array([3, 5, 6])**\n",
        "#**Which means that the value 4 is present at index 3,5, and 6.**"
      ]
    },
    {
      "cell_type": "markdown",
      "metadata": {
        "id": "WdDmiess4DUR"
      },
      "source": [
        "Find the indexes where the value are even:"
      ]
    },
    {
      "cell_type": "code",
      "execution_count": 249,
      "metadata": {
        "colab": {
          "base_uri": "https://localhost:8080/"
        },
        "id": "DzibhcA44JT7",
        "outputId": "b99a0c4e-00d0-4be5-a7c2-e350be895cf5"
      },
      "outputs": [
        {
          "output_type": "stream",
          "name": "stdout",
          "text": [
            "(array([1, 3, 5, 7]),)\n"
          ]
        }
      ],
      "source": [
        "arrSearch1 = np.array([1,2,3,4,5,6,7,8])\n",
        "\n",
        "x = np.where(arrSearch1%2 == 0)\n",
        "print(x)"
      ]
    },
    {
      "cell_type": "markdown",
      "metadata": {
        "id": "IpgHvqzC5IMW"
      },
      "source": [
        "Find the indexes where the values are odd:"
      ]
    },
    {
      "cell_type": "code",
      "execution_count": 250,
      "metadata": {
        "colab": {
          "base_uri": "https://localhost:8080/"
        },
        "id": "71tI_Mzb5OqM",
        "outputId": "98049917-685f-496c-c77f-7416fdebacef"
      },
      "outputs": [
        {
          "output_type": "stream",
          "name": "stdout",
          "text": [
            "(array([0, 2, 4, 6]),)\n"
          ]
        }
      ],
      "source": [
        "x = np.where(arrSearch1%2 == 1)\n",
        "print(x)"
      ]
    },
    {
      "cell_type": "markdown",
      "metadata": {
        "id": "oKjK8dFO6HN9"
      },
      "source": [
        "#Search Sorted"
      ]
    },
    {
      "cell_type": "markdown",
      "metadata": {
        "id": "0XtI6xli7huO"
      },
      "source": [
        "#**!The searchsorted() method is assumed to be used on sorted arrays.**"
      ]
    },
    {
      "cell_type": "markdown",
      "metadata": {
        "id": "YOQ_pogN7w1y"
      },
      "source": [
        "Find the indexes where the value 7 should be inserted:"
      ]
    },
    {
      "cell_type": "code",
      "execution_count": 251,
      "metadata": {
        "colab": {
          "base_uri": "https://localhost:8080/"
        },
        "id": "M_K6VVLK7u9I",
        "outputId": "15e1905d-0e93-44d9-85f8-4b736afada68"
      },
      "outputs": [
        {
          "output_type": "stream",
          "name": "stdout",
          "text": [
            "1\n"
          ]
        }
      ],
      "source": [
        "arrSearchSort = np.array([6,7,8,9])\n",
        "\n",
        "x = np.searchsorted(arrSearchSort, 7)\n",
        "print(x)"
      ]
    },
    {
      "cell_type": "markdown",
      "metadata": {
        "id": "0mwob8_p8tQL"
      },
      "source": [
        "#Search From the Right Side"
      ]
    },
    {
      "cell_type": "markdown",
      "metadata": {
        "id": "c-otc3hY85tS"
      },
      "source": [
        "Find the indexes where the value 7 should be inserted, starting from the right:"
      ]
    },
    {
      "cell_type": "code",
      "execution_count": 252,
      "metadata": {
        "colab": {
          "base_uri": "https://localhost:8080/"
        },
        "id": "DeB-70RI9JUS",
        "outputId": "54dc857c-20ec-4867-9c58-129a9c76538a"
      },
      "outputs": [
        {
          "output_type": "stream",
          "name": "stdout",
          "text": [
            "2\n"
          ]
        }
      ],
      "source": [
        "x = np.searchsorted(arrSearchSort, 7, side='right')\n",
        "\n",
        "print(x)"
      ]
    },
    {
      "cell_type": "markdown",
      "metadata": {
        "id": "Qsb_Dj45-0X4"
      },
      "source": [
        "#Multiple Values"
      ]
    },
    {
      "cell_type": "markdown",
      "metadata": {
        "id": "GTJIwBIl9ygu"
      },
      "source": [
        "Find the indexes where the values 2,4, and 6 should be inserted:"
      ]
    },
    {
      "cell_type": "code",
      "execution_count": 253,
      "metadata": {
        "colab": {
          "base_uri": "https://localhost:8080/"
        },
        "id": "bvvp0uGuAAFv",
        "outputId": "871a285e-21a8-4e73-ea47-50208f4a37ba"
      },
      "outputs": [
        {
          "output_type": "stream",
          "name": "stdout",
          "text": [
            "[1 2 3]\n"
          ]
        }
      ],
      "source": [
        "arrInsert = np.array([1,3,5,7])\n",
        "\n",
        "x = np.searchsorted(arrInsert,[2,4,6])\n",
        "\n",
        "print(x)"
      ]
    },
    {
      "cell_type": "markdown",
      "metadata": {
        "id": "DaECNfNdCyqD"
      },
      "source": [
        "#**NumPy Sorting Arrays**"
      ]
    },
    {
      "cell_type": "markdown",
      "metadata": {
        "id": "sNWeyE6uDITZ"
      },
      "source": [
        "Sort the array:"
      ]
    },
    {
      "cell_type": "code",
      "execution_count": 254,
      "metadata": {
        "colab": {
          "base_uri": "https://localhost:8080/"
        },
        "id": "96DUYt46C4Q_",
        "outputId": "a26534aa-51b6-4598-fb0c-213ca9672a24"
      },
      "outputs": [
        {
          "output_type": "stream",
          "name": "stdout",
          "text": [
            "[0 1 2 3]\n"
          ]
        }
      ],
      "source": [
        "arr_sort = np.array([3,2,0,1])\n",
        "\n",
        "print(np.sort(arr_sort))"
      ]
    },
    {
      "cell_type": "markdown",
      "metadata": {
        "id": "r9reFGNdDfKg"
      },
      "source": [
        "#**!This method retutns a copy of the array, leaving the original array unchanged.**"
      ]
    },
    {
      "cell_type": "markdown",
      "metadata": {
        "id": "FUfROCX2DwmM"
      },
      "source": [
        "Sort the array alphabetically"
      ]
    },
    {
      "cell_type": "code",
      "execution_count": 255,
      "metadata": {
        "colab": {
          "base_uri": "https://localhost:8080/"
        },
        "id": "MNVXuIhJD86P",
        "outputId": "e423127e-808a-440e-842c-af2c3bb79eaa"
      },
      "outputs": [
        {
          "output_type": "stream",
          "name": "stdout",
          "text": [
            "['apple' 'banana' 'cherry']\n"
          ]
        }
      ],
      "source": [
        "arr_sort_str = np.array(['banana','cherry','apple'])\n",
        "\n",
        "print(np.sort(arr_sort_str))"
      ]
    },
    {
      "cell_type": "markdown",
      "metadata": {
        "id": "kDqyZ2JiES4l"
      },
      "source": [
        "Sort a boolean array:"
      ]
    },
    {
      "cell_type": "code",
      "execution_count": 256,
      "metadata": {
        "colab": {
          "base_uri": "https://localhost:8080/"
        },
        "id": "vwGbAAZuEXRd",
        "outputId": "b5f491d3-c4ec-4467-a5c0-c24c41ec7e9b"
      },
      "outputs": [
        {
          "output_type": "stream",
          "name": "stdout",
          "text": [
            "[False  True  True]\n"
          ]
        }
      ],
      "source": [
        "arr_sort_bool = np.array([True, False, True])\n",
        "\n",
        "print(np.sort(arr_sort_bool))"
      ]
    },
    {
      "cell_type": "markdown",
      "metadata": {
        "id": "CgLjLvflErsw"
      },
      "source": [
        "Sort a 2-D array:"
      ]
    },
    {
      "cell_type": "code",
      "execution_count": 257,
      "metadata": {
        "colab": {
          "base_uri": "https://localhost:8080/"
        },
        "id": "6AEQ1_IaEw_P",
        "outputId": "3a65a6b0-486d-4932-ae14-d6f683d141b2"
      },
      "outputs": [
        {
          "output_type": "stream",
          "name": "stdout",
          "text": [
            "[[2 3 4]\n",
            " [0 1 5]]\n"
          ]
        }
      ],
      "source": [
        "arr_sort_2D = np.array([[3,2,4],[5,0,1]])\n",
        "\n",
        "print(np.sort(arr_sort_2D))"
      ]
    },
    {
      "cell_type": "markdown",
      "metadata": {
        "id": "xS-zsOuRFpWw"
      },
      "source": [
        "#**NumPy Filter Array**"
      ]
    },
    {
      "cell_type": "markdown",
      "metadata": {
        "id": "UW46VY_xGHWq"
      },
      "source": [
        "Create an array from the elements on index 0 and 2"
      ]
    },
    {
      "cell_type": "code",
      "execution_count": 258,
      "metadata": {
        "colab": {
          "base_uri": "https://localhost:8080/"
        },
        "id": "kNghqI9IGPqt",
        "outputId": "e26f65a7-ff43-4cda-f131-c562d0787062"
      },
      "outputs": [
        {
          "output_type": "stream",
          "name": "stdout",
          "text": [
            "[41 43]\n"
          ]
        }
      ],
      "source": [
        "arr_fill = np.array([41,42,43,44])\n",
        "\n",
        "x = [True, False, True, False]\n",
        "\n",
        "newarr = arr_fill[x]\n",
        "\n",
        "print(newarr)"
      ]
    },
    {
      "cell_type": "markdown",
      "metadata": {
        "id": "Mar0VMiWHQRB"
      },
      "source": [
        "#Creating the Filter Array"
      ]
    },
    {
      "cell_type": "markdown",
      "metadata": {
        "id": "x_Vmv1nJHViJ"
      },
      "source": [
        "Create a filter array that will return only values higher then 42:"
      ]
    },
    {
      "cell_type": "code",
      "execution_count": 259,
      "metadata": {
        "id": "1q7gKle0IA8d",
        "colab": {
          "base_uri": "https://localhost:8080/"
        },
        "outputId": "96a89ec4-938d-40d4-cc07-520ee6523443"
      },
      "outputs": [
        {
          "output_type": "stream",
          "name": "stdout",
          "text": [
            "[False, False, True, True]\n",
            "[43 44]\n"
          ]
        }
      ],
      "source": [
        "#Create an empty list\n",
        "filter_arr = []\n",
        "\n",
        "# go through each element in arr\n",
        "for element in arr_fill:\n",
        "  # if the element is higher then 42, set the value to True, otherwise False:\n",
        "  if element > 42:\n",
        "    filter_arr.append(True)\n",
        "  else:\n",
        "    filter_arr.append(False)\n",
        "\n",
        "newarr2 = arr_fill[filter_arr]\n",
        "\n",
        "print(filter_arr)\n",
        "print(newarr2)"
      ]
    },
    {
      "cell_type": "markdown",
      "metadata": {
        "id": "gvOxuE1LOSmZ"
      },
      "source": [
        "Create a filter array that will return only even elements from original array:"
      ]
    },
    {
      "cell_type": "code",
      "execution_count": 260,
      "metadata": {
        "colab": {
          "base_uri": "https://localhost:8080/"
        },
        "id": "yktSo9I_OiDe",
        "outputId": "365905ed-bacb-4b4f-d813-3cb1a18667f4"
      },
      "outputs": [
        {
          "output_type": "stream",
          "name": "stdout",
          "text": [
            "[False, True, False, True, False, True, False]\n",
            "[2 4 6]\n"
          ]
        }
      ],
      "source": [
        "arr = np.array([1,2,3,4,5,6,7])\n",
        "\n",
        "# Create an empty list\n",
        "filter_arr = []\n",
        "\n",
        "# go through each element in arr\n",
        "for element in arr:\n",
        "    # if the element is completely divisble by 2, set the value to True, otherwise False\n",
        "    if element % 2 == 0:\n",
        "      filter_arr.append(True)\n",
        "    else:\n",
        "      filter_arr.append(False)\n",
        "\n",
        "newarr = arr[filter_arr]\n",
        "\n",
        "print(filter_arr)\n",
        "print(newarr)\n",
        "\n"
      ]
    },
    {
      "cell_type": "markdown",
      "metadata": {
        "id": "Dqyq591cS0wD"
      },
      "source": [
        "Create a filter array that will return only values higher than 42:"
      ]
    },
    {
      "cell_type": "code",
      "execution_count": 261,
      "metadata": {
        "colab": {
          "base_uri": "https://localhost:8080/"
        },
        "id": "5eCeAbcGTCq1",
        "outputId": "52a32620-2765-4eb9-9032-33823bee01fc"
      },
      "outputs": [
        {
          "output_type": "stream",
          "name": "stdout",
          "text": [
            "[False False  True  True]\n",
            "[43 44]\n"
          ]
        }
      ],
      "source": [
        "arr = np.array([41,42,43,44])\n",
        "filter_arr = arr > 42\n",
        "\n",
        "newarr = arr[filter_arr]\n",
        "\n",
        "print(filter_arr)\n",
        "print(newarr)"
      ]
    },
    {
      "cell_type": "markdown",
      "metadata": {
        "id": "lrqPv6R5TyOF"
      },
      "source": [
        "Create a filter array that will return only even elelments from the original array:"
      ]
    },
    {
      "cell_type": "code",
      "execution_count": 262,
      "metadata": {
        "colab": {
          "base_uri": "https://localhost:8080/"
        },
        "id": "wztPm1ktUFv3",
        "outputId": "8c16a082-60ed-41a1-b512-f3b3233702a0"
      },
      "outputs": [
        {
          "output_type": "stream",
          "name": "stdout",
          "text": [
            "[False  True False  True False  True False]\n",
            "[2 4 6]\n"
          ]
        }
      ],
      "source": [
        "arr = np.array([1,2,3,4,5,6,7])\n",
        "\n",
        "filter_arr = arr % 2 == 0\n",
        "newarr = arr[filter_arr]\n",
        "\n",
        "print(filter_arr)\n",
        "print(newarr)"
      ]
    },
    {
      "cell_type": "markdown",
      "metadata": {
        "id": "A8wr5EF4azyo"
      },
      "source": [
        "#**Random Numbers in NumPy**"
      ]
    },
    {
      "cell_type": "markdown",
      "metadata": {
        "id": "zieIALV-EpGX"
      },
      "source": [
        "#Generate Random Number"
      ]
    },
    {
      "cell_type": "markdown",
      "metadata": {
        "id": "CAKkpssoF8fC"
      },
      "source": [
        "NumPy offers the random module to work with random numbers."
      ]
    },
    {
      "cell_type": "markdown",
      "metadata": {
        "id": "m7jlirZpGI3_"
      },
      "source": [
        "Generate a random integer from 0 to 100:"
      ]
    },
    {
      "cell_type": "code",
      "execution_count": 263,
      "metadata": {
        "colab": {
          "base_uri": "https://localhost:8080/"
        },
        "id": "6Xerenh2Ufsx",
        "outputId": "b2b3b4e4-79b3-4c8a-c474-80ea95c2e0a8"
      },
      "outputs": [
        {
          "output_type": "stream",
          "name": "stdout",
          "text": [
            "30\n"
          ]
        }
      ],
      "source": [
        "from numpy import random\n",
        "\n",
        "x = random.randint(100)\n",
        "\n",
        "print(x)"
      ]
    },
    {
      "cell_type": "markdown",
      "metadata": {
        "id": "FQdr5PamGtBi"
      },
      "source": [
        "#Generate Random Float"
      ]
    },
    {
      "cell_type": "markdown",
      "metadata": {
        "id": "eKbcy8FvGx9I"
      },
      "source": [
        "The random module's rand() method return a random float between 0 and 1."
      ]
    },
    {
      "cell_type": "markdown",
      "metadata": {
        "id": "qolkBeNyHC71"
      },
      "source": [
        "Generate a random float from 0 to 1:"
      ]
    },
    {
      "cell_type": "code",
      "execution_count": 264,
      "metadata": {
        "colab": {
          "base_uri": "https://localhost:8080/"
        },
        "id": "fvlcCNHIHCG2",
        "outputId": "ecb58fae-524c-455a-8c64-ff8193e6a132"
      },
      "outputs": [
        {
          "output_type": "stream",
          "name": "stdout",
          "text": [
            "0.36063068683024835\n"
          ]
        }
      ],
      "source": [
        "x = random.rand()\n",
        "\n",
        "print(x)"
      ]
    },
    {
      "cell_type": "markdown",
      "metadata": {
        "id": "FqcmTssEHYxc"
      },
      "source": [
        "#Generate Random Array"
      ]
    },
    {
      "cell_type": "markdown",
      "metadata": {
        "id": "WevqZGZBHpAh"
      },
      "source": [
        "Generate a 1-D array containing 5 random integers from 0 to 100"
      ]
    },
    {
      "cell_type": "code",
      "execution_count": 265,
      "metadata": {
        "colab": {
          "base_uri": "https://localhost:8080/"
        },
        "id": "lLkZ49BsHzx0",
        "outputId": "48f8e898-eea7-4326-f694-b03533f64559"
      },
      "outputs": [
        {
          "output_type": "stream",
          "name": "stdout",
          "text": [
            "[78  1  8 50 92]\n"
          ]
        }
      ],
      "source": [
        "x = random.randint(100, size=(5))\n",
        "\n",
        "print(x)"
      ]
    },
    {
      "cell_type": "markdown",
      "metadata": {
        "id": "vqC_xNSEILI9"
      },
      "source": [
        "Generate a 2-D array with 3 rows, each row containing 5 random integers from 0 to 100:"
      ]
    },
    {
      "cell_type": "code",
      "execution_count": 266,
      "metadata": {
        "colab": {
          "base_uri": "https://localhost:8080/"
        },
        "id": "aUeFLbsRIbju",
        "outputId": "b1ea4fcd-2018-46a5-80fd-d69379196de9"
      },
      "outputs": [
        {
          "output_type": "stream",
          "name": "stdout",
          "text": [
            "[[20 20  0 37 56]\n",
            " [76 19 87 69 24]\n",
            " [58 32 45 70 82]]\n"
          ]
        }
      ],
      "source": [
        "x = random.randint(100, size=(3,5))\n",
        "\n",
        "print(x)"
      ]
    },
    {
      "cell_type": "markdown",
      "metadata": {
        "id": "qV3vprRYI5y4"
      },
      "source": [
        "#Floats"
      ]
    },
    {
      "cell_type": "markdown",
      "metadata": {
        "id": "TBoH3JS0I-YB"
      },
      "source": [
        "The rand() method also allows you to specify the shape of the array."
      ]
    },
    {
      "cell_type": "markdown",
      "metadata": {
        "id": "82bAwj-2JMQI"
      },
      "source": [
        "Generate a 1-D array containg 5 random floats:"
      ]
    },
    {
      "cell_type": "code",
      "execution_count": 267,
      "metadata": {
        "colab": {
          "base_uri": "https://localhost:8080/"
        },
        "id": "RVxr_xfAI8lZ",
        "outputId": "239c8d20-eebb-402f-e3d3-8a3159153ec9"
      },
      "outputs": [
        {
          "output_type": "stream",
          "name": "stdout",
          "text": [
            "[0.4420723  0.55092048 0.41005005 0.65314096 0.29677719]\n"
          ]
        }
      ],
      "source": [
        "x = random.rand(5)\n",
        "print(x)"
      ]
    },
    {
      "cell_type": "markdown",
      "metadata": {
        "id": "E6P2mmkAJmky"
      },
      "source": [
        "Generate a 2-D array with 3 rows, each row containing 5 random numbers:"
      ]
    },
    {
      "cell_type": "code",
      "execution_count": 268,
      "metadata": {
        "colab": {
          "base_uri": "https://localhost:8080/"
        },
        "id": "2iE4-wrAJbJa",
        "outputId": "7087be1e-869a-4515-808c-b6dbbf11961d"
      },
      "outputs": [
        {
          "output_type": "stream",
          "name": "stdout",
          "text": [
            "[[0.06273133 0.8674184  0.0079126  0.33437388 0.77583425]\n",
            " [0.97146712 0.55844125 0.58246887 0.54654378 0.08672036]\n",
            " [0.14321821 0.70354097 0.29761823 0.15727663 0.08417676]]\n"
          ]
        }
      ],
      "source": [
        "x = random.rand(3,5)\n",
        "\n",
        "print(x)"
      ]
    },
    {
      "cell_type": "markdown",
      "metadata": {
        "id": "fBItPfI1KJw0"
      },
      "source": [
        "#Generate Random Number From Array"
      ]
    },
    {
      "cell_type": "markdown",
      "metadata": {
        "id": "n-yZc4AtKgmo"
      },
      "source": [
        "Return one of the values in an array:"
      ]
    },
    {
      "cell_type": "code",
      "execution_count": 269,
      "metadata": {
        "colab": {
          "base_uri": "https://localhost:8080/"
        },
        "id": "PgjidIx9KPrO",
        "outputId": "ea599112-4065-4798-9fe5-b4efa82ac2c2"
      },
      "outputs": [
        {
          "output_type": "stream",
          "name": "stdout",
          "text": [
            "9\n"
          ]
        }
      ],
      "source": [
        "x = random.choice([3, 5, 7, 9])\n",
        "print(x)"
      ]
    },
    {
      "cell_type": "markdown",
      "metadata": {
        "id": "pwZhTY-9LJED"
      },
      "source": [
        "Generate 2-D array that consists of the values in the array parameter (3,5,7,and 9):"
      ]
    },
    {
      "cell_type": "code",
      "execution_count": 270,
      "metadata": {
        "colab": {
          "base_uri": "https://localhost:8080/"
        },
        "id": "Nl77mbmfLkCP",
        "outputId": "2a8d2f4e-78cc-42ab-c9fb-5a0c5507dc11"
      },
      "outputs": [
        {
          "output_type": "stream",
          "name": "stdout",
          "text": [
            "[[7 3 3 9 7]\n",
            " [9 7 9 3 3]\n",
            " [7 5 7 3 5]]\n"
          ]
        }
      ],
      "source": [
        "x = random.choice([3,5,7,9], size=(3, 5))\n",
        "\n",
        "print(x)"
      ]
    },
    {
      "cell_type": "markdown",
      "metadata": {
        "id": "Tt4cfP3JMCmw"
      },
      "source": [
        "#**Random Data Distribution**"
      ]
    },
    {
      "cell_type": "markdown",
      "metadata": {
        "id": "cRvQ5HvhMJbg"
      },
      "source": [
        "#Generate a 1-D array containing 100 values, where each value has to be 3, 5, 7 or 9.\n",
        "\n",
        "The Probability for the value to be 3 is\n",
        "set to be 0.1\n",
        "\n",
        "The Probability for the value to be 5 is set to be 0.3\n",
        "\n",
        "The Probability for the value to be 7 is set to be 0.6\n",
        "\n",
        "The Probability for the value to be 9 is set to be 0"
      ]
    },
    {
      "cell_type": "code",
      "execution_count": 271,
      "metadata": {
        "colab": {
          "base_uri": "https://localhost:8080/"
        },
        "id": "VP_0gKqZq4Y-",
        "outputId": "ba704d80-7e14-48f3-eeb9-9354c36b7d60"
      },
      "outputs": [
        {
          "output_type": "stream",
          "name": "stdout",
          "text": [
            "[5 5 3 7 7 7 5 5 7 7 7 3 7 3 5 7 7 3 5 3 7 7 5 7 3 3 7 5 7 7 7 5 7 5 5 7 7\n",
            " 7 7 7 7 5 7 7 7 7 5 3 7 7 7 7 7 7 7 7 3 7 7 7 5 7 3 7 7 7 5 7 7 5 7 5 3 7\n",
            " 5 5 7 7 7 5 7 5 5 7 7 7 7 7 7 5 5 7 7 7 7 5 5 7 7 5]\n"
          ]
        }
      ],
      "source": [
        "x = random.choice([3,5,7,9], p=[0.1, 0.3, 0.6, 0.0], size =(100))\n",
        "print(x)"
      ]
    },
    {
      "cell_type": "markdown",
      "metadata": {
        "id": "HIu9GNbOaNQf"
      },
      "source": [
        "#**!The sum of all probability numbers should be 1.**"
      ]
    },
    {
      "cell_type": "markdown",
      "metadata": {
        "id": "cEp4NbTzab8-"
      },
      "source": [
        "Same example as above, but return a 2-D array with 3 rows, each containing 5 values."
      ]
    },
    {
      "cell_type": "code",
      "execution_count": 272,
      "metadata": {
        "colab": {
          "base_uri": "https://localhost:8080/"
        },
        "id": "RW2Hqd5ObGGY",
        "outputId": "0d2f4ccc-dfd2-44b6-8a43-91b3ad953bee"
      },
      "outputs": [
        {
          "output_type": "stream",
          "name": "stdout",
          "text": [
            "[[7 5 5 5 7]\n",
            " [5 7 3 5 7]\n",
            " [5 5 7 5 5]]\n"
          ]
        }
      ],
      "source": [
        "x = random.choice([3,5,7,9], p=[0.1, 0.3,0.6,0.0], size=(3,5))\n",
        "print(x)"
      ]
    },
    {
      "cell_type": "markdown",
      "metadata": {
        "id": "hTjAI1CDcIe2"
      },
      "source": [
        "#**Random Permutaions**"
      ]
    },
    {
      "cell_type": "markdown",
      "metadata": {
        "id": "IuLhglRWcP8w"
      },
      "source": [
        "#Shuffling Arrays"
      ]
    },
    {
      "cell_type": "markdown",
      "metadata": {
        "id": "MIKSHXldcxOn"
      },
      "source": [
        "Randomly shuffle elements of follwing array:"
      ]
    },
    {
      "cell_type": "code",
      "execution_count": 273,
      "metadata": {
        "colab": {
          "base_uri": "https://localhost:8080/"
        },
        "id": "ykiCNCjFcwdH",
        "outputId": "7055cc3c-7031-45af-83df-b00996c3ad02"
      },
      "outputs": [
        {
          "output_type": "stream",
          "name": "stdout",
          "text": [
            "[2 4 5 1 3]\n"
          ]
        }
      ],
      "source": [
        "arr = np.array([1,2,3,4,5])\n",
        "\n",
        "random.shuffle(arr)\n",
        "\n",
        "print(arr)"
      ]
    },
    {
      "cell_type": "markdown",
      "metadata": {
        "id": "mIj0gPIHdn6t"
      },
      "source": [
        "#**!The shuffle() method make changes to original array.**"
      ]
    },
    {
      "cell_type": "markdown",
      "metadata": {
        "id": "yu_CcS38d776"
      },
      "source": [
        "Generate a random permutation of elements of follwing array:"
      ]
    },
    {
      "cell_type": "code",
      "execution_count": 274,
      "metadata": {
        "colab": {
          "base_uri": "https://localhost:8080/"
        },
        "id": "4MIVOD5PeF4_",
        "outputId": "047d1fb3-3431-4708-f607-4c39347b6ff8"
      },
      "outputs": [
        {
          "output_type": "stream",
          "name": "stdout",
          "text": [
            "[5 4 3 1 2]\n"
          ]
        }
      ],
      "source": [
        "arr = np.array([1,2,3,4,5])\n",
        "\n",
        "print(random.permutation(arr))"
      ]
    },
    {
      "cell_type": "markdown",
      "metadata": {
        "id": "8jDTfmH1empK"
      },
      "source": [
        "#**The permutation() method returns a re-arranged array(and leaves the original array un-changed).**"
      ]
    },
    {
      "cell_type": "markdown",
      "metadata": {
        "id": "FhgDCGzYemff"
      },
      "source": [
        "#***Seaborn***"
      ]
    },
    {
      "cell_type": "markdown",
      "metadata": {
        "id": "u1A4WRa6gF9b"
      },
      "source": [
        "#Visualize Distributions With Seaborn\n",
        "\n"
      ]
    },
    {
      "cell_type": "code",
      "execution_count": 275,
      "metadata": {
        "id": "zPQOSYFEf3KA"
      },
      "outputs": [],
      "source": [
        "import matplotlib.pyplot as plt\n",
        "import seaborn as sns"
      ]
    },
    {
      "cell_type": "markdown",
      "metadata": {
        "id": "ozJE5mOFhK2O"
      },
      "source": [
        "#Plotting a Distplot"
      ]
    },
    {
      "cell_type": "code",
      "execution_count": 276,
      "metadata": {
        "colab": {
          "base_uri": "https://localhost:8080/",
          "height": 621
        },
        "id": "D3a6_zBMhQwU",
        "outputId": "d4993740-7263-415c-b6f4-64c747d79e89"
      },
      "outputs": [
        {
          "output_type": "stream",
          "name": "stderr",
          "text": [
            "<ipython-input-276-b313794a9b2a>:1: UserWarning: \n",
            "\n",
            "`distplot` is a deprecated function and will be removed in seaborn v0.14.0.\n",
            "\n",
            "Please adapt your code to use either `displot` (a figure-level function with\n",
            "similar flexibility) or `histplot` (an axes-level function for histograms).\n",
            "\n",
            "For a guide to updating your code to use the new functions, please see\n",
            "https://gist.github.com/mwaskom/de44147ed2974457ad6372750bbe5751\n",
            "\n",
            "  sns.distplot([0,1,2,3,4,5])\n"
          ]
        },
        {
          "output_type": "display_data",
          "data": {
            "text/plain": [
              "<Figure size 640x480 with 1 Axes>"
            ],
            "image/png": "[encoded data removed]"
          },
          "metadata": {}
        }
      ],
      "source": [
        "sns.distplot([0,1,2,3,4,5])\n",
        "\n",
        "plt.show()"
      ]
    },
    {
      "cell_type": "markdown",
      "metadata": {
        "id": "LSYcygHGi_fZ"
      },
      "source": [
        "#Plotting a Distplot Without the Histogrma"
      ]
    },
    {
      "cell_type": "code",
      "execution_count": 277,
      "metadata": {
        "colab": {
          "base_uri": "https://localhost:8080/",
          "height": 621
        },
        "id": "oYqU8UKZjHGd",
        "outputId": "e599d187-05c8-4035-e635-d4ccfd06b81f"
      },
      "outputs": [
        {
          "output_type": "stream",
          "name": "stderr",
          "text": [
            "<ipython-input-277-d661cea341ac>:1: UserWarning: \n",
            "\n",
            "`distplot` is a deprecated function and will be removed in seaborn v0.14.0.\n",
            "\n",
            "Please adapt your code to use either `displot` (a figure-level function with\n",
            "similar flexibility) or `kdeplot` (an axes-level function for kernel density plots).\n",
            "\n",
            "For a guide to updating your code to use the new functions, please see\n",
            "https://gist.github.com/mwaskom/de44147ed2974457ad6372750bbe5751\n",
            "\n",
            "  sns.distplot([0,1,2,3,4,5], hist=False)\n"
          ]
        },
        {
          "output_type": "display_data",
          "data": {
            "text/plain": [
              "<Figure size 640x480 with 1 Axes>"
            ],
            "image/png": "[encoded data removed]"
          },
          "metadata": {}
        }
      ],
      "source": [
        "sns.distplot([0,1,2,3,4,5], hist=False)\n",
        "plt.show()"
      ]
    },
    {
      "cell_type": "markdown",
      "metadata": {
        "id": "UlXdlA_SkWeE"
      },
      "source": [
        "#**! We will be using: sns.distplot(arr, hist=False) to visualize random distributions.**"
      ]
    },
    {
      "cell_type": "markdown",
      "metadata": {
        "id": "f2LZkGs0i_Yn"
      },
      "source": [
        "#**Normal(Gaussian) Distribution**"
      ]
    },
    {
      "cell_type": "markdown",
      "metadata": {
        "id": "mlMFAlHKmosf"
      },
      "source": [
        "Generate a random normal distribution of size 2x3:"
      ]
    },
    {
      "cell_type": "code",
      "execution_count": 278,
      "metadata": {
        "colab": {
          "base_uri": "https://localhost:8080/"
        },
        "id": "zjjaNhtRm3Kt",
        "outputId": "aa85e150-1978-476c-d695-0f5e246e8a2f"
      },
      "outputs": [
        {
          "output_type": "stream",
          "name": "stdout",
          "text": [
            "[[ 0.32044122 -0.9101819  -0.63095462]\n",
            " [ 0.31900365 -1.42367531 -1.89022967]]\n"
          ]
        }
      ],
      "source": [
        "x = random.normal(size=(2, 3))\n",
        "print(x)"
      ]
    },
    {
      "cell_type": "markdown",
      "metadata": {
        "id": "vabJWsr3qwo7"
      },
      "source": [
        "Generate a random normal distribution of Size 2x3 with mean at 1 and standard deviation of 2:"
      ]
    },
    {
      "cell_type": "code",
      "execution_count": 279,
      "metadata": {
        "colab": {
          "base_uri": "https://localhost:8080/"
        },
        "id": "K01QAf_-rDU8",
        "outputId": "0aa19a62-557d-4844-d10b-3412b86432d9"
      },
      "outputs": [
        {
          "output_type": "stream",
          "name": "stdout",
          "text": [
            "[[0.16193617 3.05132351 1.53280195]\n",
            " [2.24563848 3.4045472  2.05817211]]\n"
          ]
        }
      ],
      "source": [
        "x = random.normal(loc=1, scale=2, size=(2, 3))\n",
        "print(x)"
      ]
    },
    {
      "cell_type": "markdown",
      "metadata": {
        "id": "rn9XFm8Krz2X"
      },
      "source": [
        "#Visualization of Normal Distribution"
      ]
    },
    {
      "cell_type": "code",
      "execution_count": 280,
      "metadata": {
        "colab": {
          "base_uri": "https://localhost:8080/",
          "height": 621
        },
        "id": "7NiXNz6xr7Lu",
        "outputId": "9ffe59b8-2461-4fa2-edef-340c0b152689"
      },
      "outputs": [
        {
          "output_type": "stream",
          "name": "stderr",
          "text": [
            "<ipython-input-280-8185d6e232f8>:1: UserWarning: \n",
            "\n",
            "`distplot` is a deprecated function and will be removed in seaborn v0.14.0.\n",
            "\n",
            "Please adapt your code to use either `displot` (a figure-level function with\n",
            "similar flexibility) or `kdeplot` (an axes-level function for kernel density plots).\n",
            "\n",
            "For a guide to updating your code to use the new functions, please see\n",
            "https://gist.github.com/mwaskom/de44147ed2974457ad6372750bbe5751\n",
            "\n",
            "  sns.distplot(random.normal(size=1000), hist=False)\n"
          ]
        },
        {
          "output_type": "display_data",
          "data": {
            "text/plain": [
              "<Figure size 640x480 with 1 Axes>"
            ],
            "image/png": "[encoded data removed]"
          },
          "metadata": {}
        }
      ],
      "source": [
        "sns.distplot(random.normal(size=1000), hist=False)\n",
        "plt.show()"
      ]
    },
    {
      "cell_type": "markdown",
      "metadata": {
        "id": "3U8tJtMdsgxV"
      },
      "source": [
        "#**Binomial Distribution**"
      ]
    },
    {
      "cell_type": "markdown",
      "metadata": {
        "id": "2n66oeecspIr"
      },
      "source": [
        "Given 10 trials for coin toss generate 10 data points:"
      ]
    },
    {
      "cell_type": "code",
      "execution_count": 281,
      "metadata": {
        "colab": {
          "base_uri": "https://localhost:8080/"
        },
        "id": "7C8A926utOV3",
        "outputId": "16db0318-ba18-4e60-e708-cdb5495cc404"
      },
      "outputs": [
        {
          "output_type": "stream",
          "name": "stdout",
          "text": [
            "[5 7 7 6 5 6 4 6 7 6]\n"
          ]
        }
      ],
      "source": [
        "x = random.binomial(n=10, p=0.5, size=10)\n",
        "print(x)"
      ]
    },
    {
      "cell_type": "markdown",
      "metadata": {
        "id": "3UVgwPeGtu2y"
      },
      "source": [
        "Visualization of Binomial Distribution"
      ]
    },
    {
      "cell_type": "code",
      "execution_count": 282,
      "metadata": {
        "colab": {
          "base_uri": "https://localhost:8080/",
          "height": 621
        },
        "id": "UdM1zYAut1pR",
        "outputId": "ba785a8f-9f94-4b97-9bb8-4e54a4812429"
      },
      "outputs": [
        {
          "output_type": "stream",
          "name": "stderr",
          "text": [
            "<ipython-input-282-5667375eb034>:1: UserWarning: \n",
            "\n",
            "`distplot` is a deprecated function and will be removed in seaborn v0.14.0.\n",
            "\n",
            "Please adapt your code to use either `displot` (a figure-level function with\n",
            "similar flexibility) or `histplot` (an axes-level function for histograms).\n",
            "\n",
            "For a guide to updating your code to use the new functions, please see\n",
            "https://gist.github.com/mwaskom/de44147ed2974457ad6372750bbe5751\n",
            "\n",
            "  sns.distplot(random.binomial(n=10, p=0.5, size=1000), hist=True,kde=False)\n"
          ]
        },
        {
          "output_type": "display_data",
          "data": {
            "text/plain": [
              "<Figure size 640x480 with 1 Axes>"
            ],
            "image/png": "[encoded data removed]"
          },
          "metadata": {}
        }
      ],
      "source": [
        "sns.distplot(random.binomial(n=10, p=0.5, size=1000), hist=True,kde=False)\n",
        "plt.show()"
      ]
    },
    {
      "cell_type": "markdown",
      "metadata": {
        "id": "dUMjtULhufSQ"
      },
      "source": [
        "#Difference Between Normal and Binomial Distribution"
      ]
    },
    {
      "cell_type": "markdown",
      "metadata": {
        "id": "VaEs4Fk-ur2U"
      },
      "source": [
        "The main difference is that normal distribution is continous whereas binomial is discrete, but if there are enough data points it will be quite similar to distribution with certain loc and scale"
      ]
    },
    {
      "cell_type": "code",
      "execution_count": 283,
      "metadata": {
        "colab": {
          "base_uri": "https://localhost:8080/",
          "height": 812
        },
        "id": "gWZziPC9vTJL",
        "outputId": "1124c329-ffb5-4c26-91ef-684c919581b8"
      },
      "outputs": [
        {
          "output_type": "stream",
          "name": "stderr",
          "text": [
            "<ipython-input-283-1b3e38609cd9>:1: UserWarning: \n",
            "\n",
            "`distplot` is a deprecated function and will be removed in seaborn v0.14.0.\n",
            "\n",
            "Please adapt your code to use either `displot` (a figure-level function with\n",
            "similar flexibility) or `kdeplot` (an axes-level function for kernel density plots).\n",
            "\n",
            "For a guide to updating your code to use the new functions, please see\n",
            "https://gist.github.com/mwaskom/de44147ed2974457ad6372750bbe5751\n",
            "\n",
            "  sns.distplot(random.normal(loc=50, scale=5, size=1000), hist=False, label=\"normal\")\n",
            "<ipython-input-283-1b3e38609cd9>:2: UserWarning: \n",
            "\n",
            "`distplot` is a deprecated function and will be removed in seaborn v0.14.0.\n",
            "\n",
            "Please adapt your code to use either `displot` (a figure-level function with\n",
            "similar flexibility) or `kdeplot` (an axes-level function for kernel density plots).\n",
            "\n",
            "For a guide to updating your code to use the new functions, please see\n",
            "https://gist.github.com/mwaskom/de44147ed2974457ad6372750bbe5751\n",
            "\n",
            "  sns.distplot(random.binomial(n=100, p=0.5, size=1000), hist=False, label=\"binomial\")\n"
          ]
        },
        {
          "output_type": "display_data",
          "data": {
            "text/plain": [
              "<Figure size 640x480 with 1 Axes>"
            ],
            "image/png": "[encoded data removed]"
          },
          "metadata": {}
        }
      ],
      "source": [
        "sns.distplot(random.normal(loc=50, scale=5, size=1000), hist=False, label=\"normal\")\n",
        "sns.distplot(random.binomial(n=100, p=0.5, size=1000), hist=False, label=\"binomial\")\n",
        "plt.show()"
      ]
    },
    {
      "cell_type": "markdown",
      "metadata": {
        "id": "bwEYZMcKDFjr"
      },
      "source": [
        "#**Poisson Distribution**"
      ]
    },
    {
      "cell_type": "markdown",
      "metadata": {
        "id": "OXnmRxGBDNBQ"
      },
      "source": [
        "Generate a random 1x10 distribution for occurrence 2:"
      ]
    },
    {
      "cell_type": "code",
      "execution_count": 284,
      "metadata": {
        "colab": {
          "base_uri": "https://localhost:8080/"
        },
        "id": "DWn4JJrIDE2i",
        "outputId": "4c8eda1d-e530-4a63-d67b-e4c399ea358c"
      },
      "outputs": [
        {
          "output_type": "stream",
          "name": "stdout",
          "text": [
            "[2 1 5 2 2 1 3 2 2 3]\n"
          ]
        }
      ],
      "source": [
        "x = random.poisson(lam=2, size=10)\n",
        "\n",
        "print(x)"
      ]
    },
    {
      "cell_type": "markdown",
      "metadata": {
        "id": "7k5X5NKuFVkz"
      },
      "source": [
        "Visualization of Poisson Distribution"
      ]
    },
    {
      "cell_type": "code",
      "execution_count": 285,
      "metadata": {
        "colab": {
          "base_uri": "https://localhost:8080/",
          "height": 621
        },
        "id": "Bh9qMSNRFcsP",
        "outputId": "2f67a108-9118-4227-ae51-95ec61ad1481"
      },
      "outputs": [
        {
          "output_type": "stream",
          "name": "stderr",
          "text": [
            "<ipython-input-285-ce8ea9013b51>:1: UserWarning: \n",
            "\n",
            "`distplot` is a deprecated function and will be removed in seaborn v0.14.0.\n",
            "\n",
            "Please adapt your code to use either `displot` (a figure-level function with\n",
            "similar flexibility) or `histplot` (an axes-level function for histograms).\n",
            "\n",
            "For a guide to updating your code to use the new functions, please see\n",
            "https://gist.github.com/mwaskom/de44147ed2974457ad6372750bbe5751\n",
            "\n",
            "  sns.distplot(random.poisson(lam=2, size=1000), kde=False)\n"
          ]
        },
        {
          "output_type": "display_data",
          "data": {
            "text/plain": [
              "<Figure size 640x480 with 1 Axes>"
            ],
            "image/png": "[encoded data removed]"
          },
          "metadata": {}
        }
      ],
      "source": [
        "sns.distplot(random.poisson(lam=2, size=1000), kde=False)\n",
        "plt.show()"
      ]
    },
    {
      "cell_type": "markdown",
      "metadata": {
        "id": "LsWQW3q_GSZg"
      },
      "source": [
        "#Difference Between Normal and Poisson Distribution"
      ]
    },
    {
      "cell_type": "markdown",
      "metadata": {
        "id": "Nf1fywUbGfQK"
      },
      "source": [
        "Normal distribution is continuous whereas poisson is discrete.\n",
        "\n",
        "But we can see that similar to binomial for a large enough poisson distribution it will become similar to normal distribution with certain std dev and mean."
      ]
    },
    {
      "cell_type": "code",
      "execution_count": 286,
      "metadata": {
        "colab": {
          "base_uri": "https://localhost:8080/",
          "height": 812
        },
        "id": "cVBBjS3QFuoo",
        "outputId": "f0749d8b-0fe4-46b7-d67d-31b732ef28bb"
      },
      "outputs": [
        {
          "output_type": "stream",
          "name": "stderr",
          "text": [
            "<ipython-input-286-7e141943324c>:1: UserWarning: \n",
            "\n",
            "`distplot` is a deprecated function and will be removed in seaborn v0.14.0.\n",
            "\n",
            "Please adapt your code to use either `displot` (a figure-level function with\n",
            "similar flexibility) or `kdeplot` (an axes-level function for kernel density plots).\n",
            "\n",
            "For a guide to updating your code to use the new functions, please see\n",
            "https://gist.github.com/mwaskom/de44147ed2974457ad6372750bbe5751\n",
            "\n",
            "  sns.distplot(random.normal(loc=50, scale=7, size=1000), hist=False, label=\"normal\")\n",
            "<ipython-input-286-7e141943324c>:2: UserWarning: \n",
            "\n",
            "`distplot` is a deprecated function and will be removed in seaborn v0.14.0.\n",
            "\n",
            "Please adapt your code to use either `displot` (a figure-level function with\n",
            "similar flexibility) or `kdeplot` (an axes-level function for kernel density plots).\n",
            "\n",
            "For a guide to updating your code to use the new functions, please see\n",
            "https://gist.github.com/mwaskom/de44147ed2974457ad6372750bbe5751\n",
            "\n",
            "  sns.distplot(random.poisson(lam=50, size=1000), hist=False,label=\"poisson\")\n"
          ]
        },
        {
          "output_type": "display_data",
          "data": {
            "text/plain": [
              "<Figure size 640x480 with 1 Axes>"
            ],
            "image/png": "[encoded data removed]"
          },
          "metadata": {}
        }
      ],
      "source": [
        "sns.distplot(random.normal(loc=50, scale=7, size=1000), hist=False, label=\"normal\")\n",
        "sns.distplot(random.poisson(lam=50, size=1000), hist=False,label=\"poisson\")\n",
        "\n",
        "plt.show()"
      ]
    },
    {
      "cell_type": "markdown",
      "metadata": {
        "id": "L71zOaXmRyis"
      },
      "source": [
        "#**Uniform Distribution**"
      ]
    },
    {
      "cell_type": "markdown",
      "metadata": {
        "id": "cTgbqjMiTCdI"
      },
      "source": [
        "Create a 2x3 uniform distribution sample:"
      ]
    },
    {
      "cell_type": "code",
      "execution_count": 287,
      "metadata": {
        "colab": {
          "base_uri": "https://localhost:8080/"
        },
        "id": "ZjEyfYO3R9Vs",
        "outputId": "6f9df98c-d3c1-431e-9b3b-d0d032c2351e"
      },
      "outputs": [
        {
          "output_type": "stream",
          "name": "stdout",
          "text": [
            "[[0.42184815 0.34156407 0.2646604 ]\n",
            " [0.18558233 0.87462591 0.94086137]]\n"
          ]
        }
      ],
      "source": [
        "x = random.uniform(size=(2, 3))\n",
        "\n",
        "print(x)"
      ]
    },
    {
      "cell_type": "markdown",
      "metadata": {
        "id": "s3KDH-adTfXN"
      },
      "source": [
        "Visualization of Uniform Distribution"
      ]
    },
    {
      "cell_type": "code",
      "execution_count": 288,
      "metadata": {
        "colab": {
          "base_uri": "https://localhost:8080/",
          "height": 621
        },
        "id": "NEHS7fG5Tk6t",
        "outputId": "90b70df6-1b0b-4a9b-bfd4-0aef68f6c941"
      },
      "outputs": [
        {
          "output_type": "stream",
          "name": "stderr",
          "text": [
            "<ipython-input-288-f1aa3ec5367b>:1: UserWarning: \n",
            "\n",
            "`distplot` is a deprecated function and will be removed in seaborn v0.14.0.\n",
            "\n",
            "Please adapt your code to use either `displot` (a figure-level function with\n",
            "similar flexibility) or `kdeplot` (an axes-level function for kernel density plots).\n",
            "\n",
            "For a guide to updating your code to use the new functions, please see\n",
            "https://gist.github.com/mwaskom/de44147ed2974457ad6372750bbe5751\n",
            "\n",
            "  sns.distplot(random.uniform(size=1000), hist=False)\n"
          ]
        },
        {
          "output_type": "display_data",
          "data": {
            "text/plain": [
              "<Figure size 640x480 with 1 Axes>"
            ],
            "image/png": "[encoded data removed]"
          },
          "metadata": {}
        }
      ],
      "source": [
        "sns.distplot(random.uniform(size=1000), hist=False)\n",
        "\n",
        "plt.show()"
      ]
    },
    {
      "cell_type": "markdown",
      "metadata": {
        "id": "_pY329mXVMyh"
      },
      "source": [
        "#**Logistic Distribution**"
      ]
    },
    {
      "cell_type": "markdown",
      "metadata": {
        "id": "VLE6fW9YVRru"
      },
      "source": [
        "Draw 2x3 samples from a logistic distribution with mean at 1 and stddev 2.0:"
      ]
    },
    {
      "cell_type": "code",
      "execution_count": 289,
      "metadata": {
        "colab": {
          "base_uri": "https://localhost:8080/"
        },
        "id": "nYMyS8NwViE1",
        "outputId": "893a0e7f-630f-4f16-cd93-9f4ce73333eb"
      },
      "outputs": [
        {
          "output_type": "stream",
          "name": "stdout",
          "text": [
            "[[-5.85826768  6.90270343  7.41963865]\n",
            " [ 2.83874084  3.11104896  3.08651512]]\n"
          ]
        }
      ],
      "source": [
        "x = random.logistic(loc=1, scale=2, size=(2,3))\n",
        "\n",
        "print(x)"
      ]
    },
    {
      "cell_type": "markdown",
      "metadata": {
        "id": "FccE2qyXV7fn"
      },
      "source": [
        "Visualization of Logistic Distribution"
      ]
    },
    {
      "cell_type": "code",
      "execution_count": 290,
      "metadata": {
        "colab": {
          "base_uri": "https://localhost:8080/",
          "height": 621
        },
        "id": "9fzs67M6WICO",
        "outputId": "fa7d009a-08ce-425c-8a72-02fdf5a26e7e"
      },
      "outputs": [
        {
          "output_type": "stream",
          "name": "stderr",
          "text": [
            "<ipython-input-290-f434990c07b7>:1: UserWarning: \n",
            "\n",
            "`distplot` is a deprecated function and will be removed in seaborn v0.14.0.\n",
            "\n",
            "Please adapt your code to use either `displot` (a figure-level function with\n",
            "similar flexibility) or `kdeplot` (an axes-level function for kernel density plots).\n",
            "\n",
            "For a guide to updating your code to use the new functions, please see\n",
            "https://gist.github.com/mwaskom/de44147ed2974457ad6372750bbe5751\n",
            "\n",
            "  sns.distplot(random.logistic(size=1000), hist=False)\n"
          ]
        },
        {
          "output_type": "display_data",
          "data": {
            "text/plain": [
              "<Figure size 640x480 with 1 Axes>"
            ],
            "image/png": "[encoded data removed]"
          },
          "metadata": {}
        }
      ],
      "source": [
        "sns.distplot(random.logistic(size=1000), hist=False)\n",
        "\n",
        "plt.show()"
      ]
    },
    {
      "cell_type": "markdown",
      "metadata": {
        "id": "x8eGSufdWbpi"
      },
      "source": [
        "#Difference Between Logistic and Normal Distribution"
      ]
    },
    {
      "cell_type": "markdown",
      "metadata": {
        "id": "69wuNVgkWmfQ"
      },
      "source": [
        "Both distributions are near identical, but logistic distibution has more area under the tails, meaning it represents more possibility of occurrence of an event further away from mean.\n",
        "\n",
        "\n",
        "For higher value of scale(standard deviation) the normal and logistic distributions are near identical apart from the peak."
      ]
    },
    {
      "cell_type": "code",
      "execution_count": 291,
      "metadata": {
        "colab": {
          "base_uri": "https://localhost:8080/",
          "height": 816
        },
        "id": "PyLvkCFWXzLO",
        "outputId": "83451be7-0207-4f9b-8509-b902c3e3a04d"
      },
      "outputs": [
        {
          "output_type": "stream",
          "name": "stderr",
          "text": [
            "<ipython-input-291-6d0808c307a4>:1: UserWarning: \n",
            "\n",
            "`distplot` is a deprecated function and will be removed in seaborn v0.14.0.\n",
            "\n",
            "Please adapt your code to use either `displot` (a figure-level function with\n",
            "similar flexibility) or `kdeplot` (an axes-level function for kernel density plots).\n",
            "\n",
            "For a guide to updating your code to use the new functions, please see\n",
            "https://gist.github.com/mwaskom/de44147ed2974457ad6372750bbe5751\n",
            "\n",
            "  sns.distplot(random.normal(scale=2, size=1000), hist=False, label='Normal')\n",
            "<ipython-input-291-6d0808c307a4>:2: UserWarning: \n",
            "\n",
            "`distplot` is a deprecated function and will be removed in seaborn v0.14.0.\n",
            "\n",
            "Please adapt your code to use either `displot` (a figure-level function with\n",
            "similar flexibility) or `kdeplot` (an axes-level function for kernel density plots).\n",
            "\n",
            "For a guide to updating your code to use the new functions, please see\n",
            "https://gist.github.com/mwaskom/de44147ed2974457ad6372750bbe5751\n",
            "\n",
            "  sns.distplot(random.logistic(size=1000), hist=False, label='logistic')\n"
          ]
        },
        {
          "output_type": "display_data",
          "data": {
            "text/plain": [
              "<Figure size 640x480 with 1 Axes>"
            ],
            "image/png": "[encoded data removed]"
          },
          "metadata": {}
        }
      ],
      "source": [
        "sns.distplot(random.normal(scale=2, size=1000), hist=False, label='Normal')\n",
        "sns.distplot(random.logistic(size=1000), hist=False, label='logistic')\n",
        "\n",
        "plt.show()"
      ]
    },
    {
      "cell_type": "markdown",
      "source": [
        "#**Chi Square Distribution**"
      ],
      "metadata": {
        "id": "VoWIAQrlD_dJ"
      }
    },
    {
      "cell_type": "markdown",
      "source": [
        "Draw out a sample for chi Squared distribution with degree of freedom 2 with size 2x3:"
      ],
      "metadata": {
        "id": "n6rWrl28EWu1"
      }
    },
    {
      "cell_type": "code",
      "source": [
        "x = random.chisquare(df=2, size=(2, 3))\n",
        "\n",
        "print(x)"
      ],
      "metadata": {
        "colab": {
          "base_uri": "https://localhost:8080/"
        },
        "id": "KU4fOU3gETqs",
        "outputId": "d4803d30-a9d5-43f0-f0b6-cae5daab1dbe"
      },
      "execution_count": 292,
      "outputs": [
        {
          "output_type": "stream",
          "name": "stdout",
          "text": [
            "[[4.9081842  1.0061556  2.02835127]\n",
            " [0.41616019 1.69843959 1.32845956]]\n"
          ]
        }
      ]
    },
    {
      "cell_type": "markdown",
      "source": [
        "viaualization of Chi Square Distribution"
      ],
      "metadata": {
        "id": "__5SyCsEE9S9"
      }
    },
    {
      "cell_type": "code",
      "source": [
        "sns.distplot(random.chisquare(df=1, size=1000), hist=False)\n",
        "\n",
        "plt.show()"
      ],
      "metadata": {
        "colab": {
          "base_uri": "https://localhost:8080/",
          "height": 621
        },
        "id": "4YQu6UDgFExK",
        "outputId": "26bdc115-b384-4b9f-e21c-1b79990124d3"
      },
      "execution_count": 293,
      "outputs": [
        {
          "output_type": "stream",
          "name": "stderr",
          "text": [
            "<ipython-input-293-1befd9775b64>:1: UserWarning: \n",
            "\n",
            "`distplot` is a deprecated function and will be removed in seaborn v0.14.0.\n",
            "\n",
            "Please adapt your code to use either `displot` (a figure-level function with\n",
            "similar flexibility) or `kdeplot` (an axes-level function for kernel density plots).\n",
            "\n",
            "For a guide to updating your code to use the new functions, please see\n",
            "https://gist.github.com/mwaskom/de44147ed2974457ad6372750bbe5751\n",
            "\n",
            "  sns.distplot(random.chisquare(df=1, size=1000), hist=False)\n"
          ]
        },
        {
          "output_type": "display_data",
          "data": {
            "text/plain": [
              "<Figure size 640x480 with 1 Axes>"
            ],
            "image/png": "[encoded data removed]"
          },
          "metadata": {}
        }
      ]
    },
    {
      "cell_type": "markdown",
      "source": [
        "#**Rayleigh Distribution**"
      ],
      "metadata": {
        "id": "mvHopOAPFfYC"
      }
    },
    {
      "cell_type": "markdown",
      "source": [
        "Draw out a sample for rayleigh distribution with scale of 2 with size 2x3"
      ],
      "metadata": {
        "id": "X24FwxIYFsGU"
      }
    },
    {
      "cell_type": "code",
      "source": [
        "x = random.rayleigh(scale=2, size=(2, 3))\n",
        "\n",
        "print(x)"
      ],
      "metadata": {
        "colab": {
          "base_uri": "https://localhost:8080/"
        },
        "id": "-F_XG2HzF6X9",
        "outputId": "566ca0a3-c08d-4eb9-b2a0-aaab302d55ea"
      },
      "execution_count": 294,
      "outputs": [
        {
          "output_type": "stream",
          "name": "stdout",
          "text": [
            "[[1.7167529  3.50720602 6.62451885]\n",
            " [3.00649797 3.56382182 2.12155604]]\n"
          ]
        }
      ]
    },
    {
      "cell_type": "markdown",
      "source": [
        "Visualization of Rayleigh Distribution"
      ],
      "metadata": {
        "id": "oM-fvRADGQCb"
      }
    },
    {
      "cell_type": "code",
      "source": [
        "sns.distplot(random.rayleigh(size=1000), hist=False)\n",
        "\n",
        "plt.show()"
      ],
      "metadata": {
        "colab": {
          "base_uri": "https://localhost:8080/",
          "height": 621
        },
        "id": "a5tC_ShJGZ6h",
        "outputId": "919fcbcd-b36a-4829-d5c4-9b550f337ae1"
      },
      "execution_count": 295,
      "outputs": [
        {
          "output_type": "stream",
          "name": "stderr",
          "text": [
            "<ipython-input-295-cda372c9c6a2>:1: UserWarning: \n",
            "\n",
            "`distplot` is a deprecated function and will be removed in seaborn v0.14.0.\n",
            "\n",
            "Please adapt your code to use either `displot` (a figure-level function with\n",
            "similar flexibility) or `kdeplot` (an axes-level function for kernel density plots).\n",
            "\n",
            "For a guide to updating your code to use the new functions, please see\n",
            "https://gist.github.com/mwaskom/de44147ed2974457ad6372750bbe5751\n",
            "\n",
            "  sns.distplot(random.rayleigh(size=1000), hist=False)\n"
          ]
        },
        {
          "output_type": "display_data",
          "data": {
            "text/plain": [
              "<Figure size 640x480 with 1 Axes>"
            ],
            "image/png": "[encoded data removed]"
          },
          "metadata": {}
        }
      ]
    },
    {
      "cell_type": "markdown",
      "source": [
        "#**Pareto Distribution**"
      ],
      "metadata": {
        "id": "Fs4arE0MINAN"
      }
    },
    {
      "cell_type": "markdown",
      "source": [
        "Draw out a sample for pareto distriburion with shape of 2 with size 2x3:"
      ],
      "metadata": {
        "id": "VBZcV8HBIadk"
      }
    },
    {
      "cell_type": "code",
      "source": [
        "x = random.pareto(a=2, size=(2, 3))\n",
        "\n",
        "print(x)"
      ],
      "metadata": {
        "colab": {
          "base_uri": "https://localhost:8080/"
        },
        "id": "OwXyfAsdISgI",
        "outputId": "3eaea3f4-f50b-408c-b4c4-c35fa82a3f5d"
      },
      "execution_count": 296,
      "outputs": [
        {
          "output_type": "stream",
          "name": "stdout",
          "text": [
            "[[ 0.13083189  0.69417824  0.1630762 ]\n",
            " [ 0.67524824  0.03588713 25.25949756]]\n"
          ]
        }
      ]
    },
    {
      "cell_type": "markdown",
      "source": [
        "Visualization of Pareto Distribution"
      ],
      "metadata": {
        "id": "bUwCrKXwI0Kp"
      }
    },
    {
      "cell_type": "code",
      "source": [
        "sns.distplot(random.pareto(a=2, size=1000), kde=False)\n",
        "plt.show()"
      ],
      "metadata": {
        "colab": {
          "base_uri": "https://localhost:8080/",
          "height": 621
        },
        "id": "hiJGFoIsJFtv",
        "outputId": "63476632-f50e-4b68-8859-be670d596b6e"
      },
      "execution_count": 297,
      "outputs": [
        {
          "output_type": "stream",
          "name": "stderr",
          "text": [
            "<ipython-input-297-889d37e16ca0>:1: UserWarning: \n",
            "\n",
            "`distplot` is a deprecated function and will be removed in seaborn v0.14.0.\n",
            "\n",
            "Please adapt your code to use either `displot` (a figure-level function with\n",
            "similar flexibility) or `histplot` (an axes-level function for histograms).\n",
            "\n",
            "For a guide to updating your code to use the new functions, please see\n",
            "https://gist.github.com/mwaskom/de44147ed2974457ad6372750bbe5751\n",
            "\n",
            "  sns.distplot(random.pareto(a=2, size=1000), kde=False)\n"
          ]
        },
        {
          "output_type": "display_data",
          "data": {
            "text/plain": [
              "<Figure size 640x480 with 1 Axes>"
            ],
            "image/png": "[encoded data removed]"
          },
          "metadata": {}
        }
      ]
    },
    {
      "cell_type": "markdown",
      "source": [
        "#**Zipf Distribution**"
      ],
      "metadata": {
        "id": "SozrN4oN86AC"
      }
    },
    {
      "cell_type": "markdown",
      "source": [
        "Draw out a sample for zipf distribution with distribution parameter 2 with size 2x3:"
      ],
      "metadata": {
        "id": "uuCT_VrV9JQO"
      }
    },
    {
      "cell_type": "code",
      "source": [
        "x = random.zipf(a=2, size=(2,3))\n",
        "\n",
        "print(x)"
      ],
      "metadata": {
        "colab": {
          "base_uri": "https://localhost:8080/"
        },
        "id": "n-cT9HLk9XKN",
        "outputId": "00ffcb58-0eb0-4ad8-b8ef-e388c1570c0d"
      },
      "execution_count": 298,
      "outputs": [
        {
          "output_type": "stream",
          "name": "stdout",
          "text": [
            "[[1 1 2]\n",
            " [1 1 1]]\n"
          ]
        }
      ]
    },
    {
      "cell_type": "markdown",
      "source": [
        "#visualization of zipf Distribution"
      ],
      "metadata": {
        "id": "pLe_CGNP9x3O"
      }
    },
    {
      "cell_type": "markdown",
      "source": [
        "Sample 1000 points but plotting only ones with value < 10 for more meaningful chart."
      ],
      "metadata": {
        "id": "5DFnm_Qj94Fj"
      }
    },
    {
      "cell_type": "code",
      "source": [
        "x = random.zipf(a=2, size=1000)\n",
        "sns.distplot(x[x<10], kde=False)\n",
        "\n",
        "plt.show()"
      ],
      "metadata": {
        "colab": {
          "base_uri": "https://localhost:8080/",
          "height": 621
        },
        "id": "DOo-ZgQA-F6V",
        "outputId": "2d47e2c1-ad36-45e7-833e-4e2f7e17be17"
      },
      "execution_count": 299,
      "outputs": [
        {
          "output_type": "stream",
          "name": "stderr",
          "text": [
            "<ipython-input-299-3a32b636ad76>:2: UserWarning: \n",
            "\n",
            "`distplot` is a deprecated function and will be removed in seaborn v0.14.0.\n",
            "\n",
            "Please adapt your code to use either `displot` (a figure-level function with\n",
            "similar flexibility) or `histplot` (an axes-level function for histograms).\n",
            "\n",
            "For a guide to updating your code to use the new functions, please see\n",
            "https://gist.github.com/mwaskom/de44147ed2974457ad6372750bbe5751\n",
            "\n",
            "  sns.distplot(x[x<10], kde=False)\n"
          ]
        },
        {
          "output_type": "display_data",
          "data": {
            "text/plain": [
              "<Figure size 640x480 with 1 Axes>"
            ],
            "image/png": "[encoded data removed]"
          },
          "metadata": {}
        }
      ]
    },
    {
      "cell_type": "markdown",
      "source": [
        "#**NumPy ufuncs**"
      ],
      "metadata": {
        "id": "jjrGgIe7-oql"
      }
    },
    {
      "cell_type": "markdown",
      "source": [
        "Without ufunc, we can use Python's buit-in zip() method:"
      ],
      "metadata": {
        "id": "z4dFsN25_K6a"
      }
    },
    {
      "cell_type": "code",
      "source": [
        "x = [1,2,3,4,]\n",
        "y = [4,5,6,7]\n",
        "\n",
        "z = []\n",
        "\n",
        "for i, j in zip(x, y):\n",
        "  z.append(i + j)\n",
        "print(z)"
      ],
      "metadata": {
        "colab": {
          "base_uri": "https://localhost:8080/"
        },
        "id": "Us0gxeu1_XYv",
        "outputId": "ce073868-15db-4d11-b6d5-797f96848401"
      },
      "execution_count": 300,
      "outputs": [
        {
          "output_type": "stream",
          "name": "stdout",
          "text": [
            "[5, 7, 9, 11]\n"
          ]
        }
      ]
    },
    {
      "cell_type": "markdown",
      "source": [
        "#NumPy has a ufunc for this, called add(x, y) that will produce the same result."
      ],
      "metadata": {
        "id": "pLjqqAwvA3ob"
      }
    },
    {
      "cell_type": "code",
      "source": [
        "x = [1,2,3,4]\n",
        "y = [4,5,6,7]\n",
        "z = np.add(x, y)\n",
        "\n",
        "print(z)"
      ],
      "metadata": {
        "colab": {
          "base_uri": "https://localhost:8080/"
        },
        "id": "AnwYnrKNBJvf",
        "outputId": "afd21786-1953-4d9b-951b-a7545a0529c6"
      },
      "execution_count": 301,
      "outputs": [
        {
          "output_type": "stream",
          "name": "stdout",
          "text": [
            "[ 5  7  9 11]\n"
          ]
        }
      ]
    },
    {
      "cell_type": "markdown",
      "source": [
        "#**Crate Your Own ufunc**"
      ],
      "metadata": {
        "id": "pGr1x76_Caod"
      }
    },
    {
      "cell_type": "markdown",
      "source": [
        "Create Your own ufunc for addition:"
      ],
      "metadata": {
        "id": "2oFdYFnXCuto"
      }
    },
    {
      "cell_type": "code",
      "source": [
        "def myadd(x, y):\n",
        "  return x + y\n",
        "\n",
        "myadd = np.frompyfunc(myadd, 2, 1)\n",
        "\n",
        "print(myadd([1,2,3,4], [5,6,7,8]))"
      ],
      "metadata": {
        "colab": {
          "base_uri": "https://localhost:8080/"
        },
        "id": "sEQqnjtHC0lC",
        "outputId": "a8fdf39f-93d1-4715-cea2-ae6f83731e8a"
      },
      "execution_count": 302,
      "outputs": [
        {
          "output_type": "stream",
          "name": "stdout",
          "text": [
            "[6 8 10 12]\n"
          ]
        }
      ]
    },
    {
      "cell_type": "markdown",
      "source": [
        "Check if a function is a ufunc:"
      ],
      "metadata": {
        "id": "ZK6I9YimDbF4"
      }
    },
    {
      "cell_type": "code",
      "source": [
        "print(type(np.add))"
      ],
      "metadata": {
        "colab": {
          "base_uri": "https://localhost:8080/"
        },
        "id": "rE_ivassDnBQ",
        "outputId": "fbfda75e-9492-4b96-cec3-a3a83583447e"
      },
      "execution_count": 303,
      "outputs": [
        {
          "output_type": "stream",
          "name": "stdout",
          "text": [
            "<class 'numpy.ufunc'>\n"
          ]
        }
      ]
    },
    {
      "cell_type": "markdown",
      "source": [
        "Check the type of another function: concatenate():"
      ],
      "metadata": {
        "id": "b1dUComID1hh"
      }
    },
    {
      "cell_type": "code",
      "source": [
        "print(type(np.concatenate))"
      ],
      "metadata": {
        "colab": {
          "base_uri": "https://localhost:8080/"
        },
        "id": "YhDw_GwLD-7B",
        "outputId": "0b3483ea-dd4a-4c46-f653-5d1915c89946"
      },
      "execution_count": 304,
      "outputs": [
        {
          "output_type": "stream",
          "name": "stdout",
          "text": [
            "<class 'numpy._ArrayFunctionDispatcher'>\n"
          ]
        }
      ]
    },
    {
      "cell_type": "markdown",
      "source": [
        "Use an if statement to check if the function is a ufunc or not:"
      ],
      "metadata": {
        "id": "5gw7_LjPERKF"
      }
    },
    {
      "cell_type": "code",
      "source": [
        "if type(np.add) == np.ufunc:\n",
        "  print('add is ufunc')\n",
        "else:\n",
        "  print('add is not ufunc')"
      ],
      "metadata": {
        "colab": {
          "base_uri": "https://localhost:8080/"
        },
        "id": "CRJe-SV1EbZu",
        "outputId": "fbb88b06-2ef3-4dc4-e32a-c15f0dbd17ca"
      },
      "execution_count": 305,
      "outputs": [
        {
          "output_type": "stream",
          "name": "stdout",
          "text": [
            "add is ufunc\n"
          ]
        }
      ]
    },
    {
      "cell_type": "markdown",
      "source": [
        "#**Simple Arithmetic**"
      ],
      "metadata": {
        "id": "HxHdBDTSE0Jm"
      }
    },
    {
      "cell_type": "markdown",
      "source": [
        "Add the values in arr1 to the values in arr2:"
      ],
      "metadata": {
        "id": "fx1pPoXBH5wV"
      }
    },
    {
      "cell_type": "code",
      "source": [
        "arr1 = np.array([10,11,12,13,14,15])\n",
        "arr2 = np.array([20,21,22,23,24,25])\n",
        "\n",
        "newarr = np.add(arr1, arr2)\n",
        "\n",
        "print(newarr)"
      ],
      "metadata": {
        "colab": {
          "base_uri": "https://localhost:8080/"
        },
        "id": "8fgyt90LE6mm",
        "outputId": "909536ba-6c29-498a-867b-e96b83643794"
      },
      "execution_count": 306,
      "outputs": [
        {
          "output_type": "stream",
          "name": "stdout",
          "text": [
            "[30 32 34 36 38 40]\n"
          ]
        }
      ]
    },
    {
      "cell_type": "markdown",
      "source": [
        "#**The example above will return [3 32 34 36 38 40] which is the sums of 10+20,11+21,12+22 etc.**"
      ],
      "metadata": {
        "id": "eZusb5zQJSn-"
      }
    },
    {
      "cell_type": "markdown",
      "source": [
        "Subtract the values in arr2 from the values in arr1:"
      ],
      "metadata": {
        "id": "7GZGeoJxJyb9"
      }
    },
    {
      "cell_type": "code",
      "source": [
        "arr1 = np.array([10,20,30,40,50,60])\n",
        "arr2 = np.array([20,21,22,23,24,25])\n",
        "\n",
        "newarr = np.subtract(arr1, arr2)\n",
        "\n",
        "print(newarr)"
      ],
      "metadata": {
        "colab": {
          "base_uri": "https://localhost:8080/"
        },
        "id": "R-SSr1BaJCoI",
        "outputId": "71ec33a3-d09e-4793-8313-20c70c59adad"
      },
      "execution_count": 307,
      "outputs": [
        {
          "output_type": "stream",
          "name": "stdout",
          "text": [
            "[-10  -1   8  17  26  35]\n"
          ]
        }
      ]
    },
    {
      "cell_type": "markdown",
      "source": [
        "#**Multiplication**"
      ],
      "metadata": {
        "id": "vhjVCFE0Ko8M"
      }
    },
    {
      "cell_type": "markdown",
      "source": [
        "Multiply the values in arr1 with the values in arr2:"
      ],
      "metadata": {
        "id": "f5wL3huOKzhf"
      }
    },
    {
      "cell_type": "code",
      "source": [
        "arr1 = np.array([10,20,30,40,50,60])\n",
        "arr2 = np.array([20,21,22,23,24,25])\n",
        "\n",
        "newarr = np.multiply(arr1, arr2)\n",
        "print(newarr)"
      ],
      "metadata": {
        "colab": {
          "base_uri": "https://localhost:8080/"
        },
        "id": "0R2zbK5gJB07",
        "outputId": "79723974-5662-422d-f819-8a993773d8c4"
      },
      "execution_count": 308,
      "outputs": [
        {
          "output_type": "stream",
          "name": "stdout",
          "text": [
            "[ 200  420  660  920 1200 1500]\n"
          ]
        }
      ]
    },
    {
      "cell_type": "markdown",
      "source": [
        "#**Division**"
      ],
      "metadata": {
        "id": "PuxGQjXPLY9y"
      }
    },
    {
      "cell_type": "markdown",
      "source": [
        "Divide the values in arr1 with the values in arr2:"
      ],
      "metadata": {
        "id": "dUPJWDEQLcXh"
      }
    },
    {
      "cell_type": "code",
      "source": [
        "arr1 = np.array([10,20,30,40,50,60])\n",
        "arr2 = np.array([3,5,10,8,2,33])\n",
        "\n",
        "newarr = np.divide(arr1, arr2)\n",
        "\n",
        "print(newarr)\n"
      ],
      "metadata": {
        "colab": {
          "base_uri": "https://localhost:8080/"
        },
        "id": "o7LlJI5kLlGO",
        "outputId": "358f5085-a72f-4348-d277-1fee7aebdd0a"
      },
      "execution_count": 309,
      "outputs": [
        {
          "output_type": "stream",
          "name": "stdout",
          "text": [
            "[ 3.33333333  4.          3.          5.         25.          1.81818182]\n"
          ]
        }
      ]
    },
    {
      "cell_type": "markdown",
      "source": [
        "#**Power**"
      ],
      "metadata": {
        "id": "rKC10Lh1MDBL"
      }
    },
    {
      "cell_type": "markdown",
      "source": [
        "Raise the values in arr1 to the power of values in arr2:"
      ],
      "metadata": {
        "id": "ltLb9Y4mMG_D"
      }
    },
    {
      "cell_type": "code",
      "source": [
        "arr1 = np.array([10,20,30,40,50,60])\n",
        "arr2 = np.array([3,5,6,8,2,33])\n",
        "\n",
        "newarr = np.power(arr1, arr2)\n",
        "print(newarr )"
      ],
      "metadata": {
        "colab": {
          "base_uri": "https://localhost:8080/"
        },
        "id": "Ty5ZtTTLMRGW",
        "outputId": "e4c57386-abaf-435d-f3b3-f68c9cfa57be"
      },
      "execution_count": 310,
      "outputs": [
        {
          "output_type": "stream",
          "name": "stdout",
          "text": [
            "[         1000       3200000     729000000 6553600000000          2500\n",
            "             0]\n"
          ]
        }
      ]
    },
    {
      "cell_type": "markdown",
      "source": [
        "#**Remainder**"
      ],
      "metadata": {
        "id": "3mOUffxSNuDw"
      }
    },
    {
      "cell_type": "markdown",
      "source": [
        "Return the remainders:"
      ],
      "metadata": {
        "id": "zuxUdvpTN2Fc"
      }
    },
    {
      "cell_type": "code",
      "source": [
        "arr1 = np.array([10,20,30,40,50,60])\n",
        "arr2 = np.array([3,7,9,8,2,33])\n",
        "\n",
        "\n",
        "newarr = np.mod(arr1, arr2)\n",
        "\n",
        "print(newarr)"
      ],
      "metadata": {
        "colab": {
          "base_uri": "https://localhost:8080/"
        },
        "id": "wMDNVfH4N1j3",
        "outputId": "f2810837-0483-43d3-9e41-23849b27f072"
      },
      "execution_count": 311,
      "outputs": [
        {
          "output_type": "stream",
          "name": "stdout",
          "text": [
            "[ 1  6  3  0  0 27]\n"
          ]
        }
      ]
    },
    {
      "cell_type": "markdown",
      "source": [
        "Return the remainders:"
      ],
      "metadata": {
        "id": "AFYaU0doO2qL"
      }
    },
    {
      "cell_type": "code",
      "source": [
        "arr1 = np.array([10,20,30,40,50,60])\n",
        "arr2 = np.array([3,7,9,8,2,33])\n",
        "\n",
        "newarr = np.remainder(arr1, arr2)\n",
        "\n",
        "print(newarr)"
      ],
      "metadata": {
        "colab": {
          "base_uri": "https://localhost:8080/"
        },
        "id": "V8bhG8kPO9dw",
        "outputId": "ecde0b86-0279-4312-bbb0-c625b543564c"
      },
      "execution_count": 312,
      "outputs": [
        {
          "output_type": "stream",
          "name": "stdout",
          "text": [
            "[ 1  6  3  0  0 27]\n"
          ]
        }
      ]
    },
    {
      "cell_type": "markdown",
      "source": [
        "#Quotient and Mod"
      ],
      "metadata": {
        "id": "Mf5OKnviQR88"
      }
    },
    {
      "cell_type": "markdown",
      "source": [
        "Return the quotient and mod:"
      ],
      "metadata": {
        "id": "HjJu79TlQltL"
      }
    },
    {
      "cell_type": "code",
      "source": [
        "arr1 = np.array([10, 20, 30, 40, 50, 60])\n",
        "arr2 = np.array([3, 7, 9, 8, 2, 33])\n",
        "\n",
        "newarr = np.divmod(arr1, arr2)\n",
        "\n",
        "print(newarr)"
      ],
      "metadata": {
        "colab": {
          "base_uri": "https://localhost:8080/"
        },
        "id": "UmiB5WoCQXZ-",
        "outputId": "3c86f289-24d0-419f-cd9a-e33077118aaf"
      },
      "execution_count": 313,
      "outputs": [
        {
          "output_type": "stream",
          "name": "stdout",
          "text": [
            "(array([ 3,  2,  3,  5, 25,  1]), array([ 1,  6,  3,  0,  0, 27]))\n"
          ]
        }
      ]
    },
    {
      "cell_type": "markdown",
      "source": [
        "#**Absolute Values**"
      ],
      "metadata": {
        "id": "5WAvJEokRXtz"
      }
    },
    {
      "cell_type": "markdown",
      "source": [
        "Return the quotient and mod:"
      ],
      "metadata": {
        "id": "4NNtW2vxRelz"
      }
    },
    {
      "cell_type": "code",
      "source": [
        "arr = np.array([-1,-2,1,2,3,-4])\n",
        "\n",
        "newarr = np.absolute(arr)\n",
        "\n",
        "print(newarr)"
      ],
      "metadata": {
        "colab": {
          "base_uri": "https://localhost:8080/"
        },
        "id": "ZnJVUkhVRiMT",
        "outputId": "6c8768d1-d2f9-4ba4-f2c2-144c98424cbf"
      },
      "execution_count": 314,
      "outputs": [
        {
          "output_type": "stream",
          "name": "stdout",
          "text": [
            "[1 2 1 2 3 4]\n"
          ]
        }
      ]
    },
    {
      "cell_type": "markdown",
      "source": [
        "#**Rounding Decimals**"
      ],
      "metadata": {
        "id": "_zPIrDhNR76i"
      }
    },
    {
      "cell_type": "markdown",
      "source": [
        "Truncate elements of following array:"
      ],
      "metadata": {
        "id": "7N60dxt0SC5j"
      }
    },
    {
      "cell_type": "code",
      "source": [
        "arr = np.trunc([-3.1666, 3.6667])\n",
        "print(arr)"
      ],
      "metadata": {
        "colab": {
          "base_uri": "https://localhost:8080/"
        },
        "id": "Lmn_kLzLRwDM",
        "outputId": "21668102-ce45-4cce-accd-b4d46653ec72"
      },
      "execution_count": 315,
      "outputs": [
        {
          "output_type": "stream",
          "name": "stdout",
          "text": [
            "[-3.  3.]\n"
          ]
        }
      ]
    },
    {
      "cell_type": "markdown",
      "source": [
        "Same example, using fix():"
      ],
      "metadata": {
        "id": "sp5CAH--R69c"
      }
    },
    {
      "cell_type": "code",
      "source": [
        "arr = np.fix([-3.1666, 3.6667])\n",
        "\n",
        "print(arr)"
      ],
      "metadata": {
        "colab": {
          "base_uri": "https://localhost:8080/"
        },
        "id": "2lRYldEHSt2S",
        "outputId": "9118d0a4-a7ad-4b72-8618-ab8b68eb97a7"
      },
      "execution_count": 316,
      "outputs": [
        {
          "output_type": "stream",
          "name": "stdout",
          "text": [
            "[-3.  3.]\n"
          ]
        }
      ]
    },
    {
      "cell_type": "markdown",
      "source": [
        "#Rounding"
      ],
      "metadata": {
        "id": "dFpLc5aiS4y9"
      }
    },
    {
      "cell_type": "markdown",
      "source": [
        "Round off 3.1666 to 2 decimal places:"
      ],
      "metadata": {
        "id": "J-NcIW84S8Ic"
      }
    },
    {
      "cell_type": "code",
      "source": [
        "arr = np.around(3.1666, 2)\n",
        "\n",
        "print(arr)"
      ],
      "metadata": {
        "colab": {
          "base_uri": "https://localhost:8080/"
        },
        "id": "5e1jMHynS3Mu",
        "outputId": "22db548c-8a87-4a3c-9c12-a024b0f48a1a"
      },
      "execution_count": 317,
      "outputs": [
        {
          "output_type": "stream",
          "name": "stdout",
          "text": [
            "3.17\n"
          ]
        }
      ]
    },
    {
      "cell_type": "markdown",
      "source": [
        "#**Floor**"
      ],
      "metadata": {
        "id": "NcSOowS_TQ2v"
      }
    },
    {
      "cell_type": "markdown",
      "source": [
        "Floor the elements of following array:"
      ],
      "metadata": {
        "id": "ySj67xm8TUkP"
      }
    },
    {
      "cell_type": "code",
      "source": [
        "arr = np.floor([-3.1666, 3.6667])\n",
        "\n",
        "print(arr)"
      ],
      "metadata": {
        "colab": {
          "base_uri": "https://localhost:8080/"
        },
        "id": "wR_y6KLNTiGD",
        "outputId": "5df9d37a-e758-4270-e970-81b2daaf5eb2"
      },
      "execution_count": 318,
      "outputs": [
        {
          "output_type": "stream",
          "name": "stdout",
          "text": [
            "[-4.  3.]\n"
          ]
        }
      ]
    },
    {
      "cell_type": "markdown",
      "source": [
        "#**Ceil**"
      ],
      "metadata": {
        "id": "R3B0-MnfTwKJ"
      }
    },
    {
      "cell_type": "markdown",
      "source": [
        "Ceil the elements of follwing array:"
      ],
      "metadata": {
        "id": "_z-24VuPT1Ni"
      }
    },
    {
      "cell_type": "code",
      "source": [
        "arr = np.ceil([-3.1666, 3.6667])\n",
        "\n",
        "print(arr)"
      ],
      "metadata": {
        "colab": {
          "base_uri": "https://localhost:8080/"
        },
        "id": "fgSCxvz8Tq9C",
        "outputId": "a8fcf9bd-7f92-4bc5-a2a3-a9c30e0e3608"
      },
      "execution_count": 319,
      "outputs": [
        {
          "output_type": "stream",
          "name": "stdout",
          "text": [
            "[-3.  4.]\n"
          ]
        }
      ]
    },
    {
      "cell_type": "markdown",
      "source": [
        "#**NumPy Logs**"
      ],
      "metadata": {
        "id": "5GcFSimDUGq2"
      }
    },
    {
      "cell_type": "markdown",
      "source": [
        "Find log at base 2 of all elements of following array:"
      ],
      "metadata": {
        "id": "cfo5OKzpUTc8"
      }
    },
    {
      "cell_type": "code",
      "source": [
        "arr = np.arange(1, 10)\n",
        "\n",
        "print(np.log2(arr))"
      ],
      "metadata": {
        "colab": {
          "base_uri": "https://localhost:8080/"
        },
        "id": "ISrKVxpkUo79",
        "outputId": "b7cb8438-bee1-4419-9eed-34769dbfe15b"
      },
      "execution_count": 320,
      "outputs": [
        {
          "output_type": "stream",
          "name": "stdout",
          "text": [
            "[0.         1.         1.5849625  2.         2.32192809 2.5849625\n",
            " 2.80735492 3.         3.169925  ]\n"
          ]
        }
      ]
    },
    {
      "cell_type": "markdown",
      "source": [
        "#Log at Base 10"
      ],
      "metadata": {
        "id": "CFcDpAWgbrHw"
      }
    },
    {
      "cell_type": "markdown",
      "source": [
        "Find log at base 10 of all elements of following array:"
      ],
      "metadata": {
        "id": "zhdg9sXKbvdO"
      }
    },
    {
      "cell_type": "code",
      "source": [
        "arr = np.arange(1, 10)\n",
        "print(np.log10(arr))"
      ],
      "metadata": {
        "colab": {
          "base_uri": "https://localhost:8080/"
        },
        "id": "IL0hckZ3b4MH",
        "outputId": "521a8733-09f5-448b-a461-30f847dc49d9"
      },
      "execution_count": 321,
      "outputs": [
        {
          "output_type": "stream",
          "name": "stdout",
          "text": [
            "[0.         0.30103    0.47712125 0.60205999 0.69897    0.77815125\n",
            " 0.84509804 0.90308999 0.95424251]\n"
          ]
        }
      ]
    },
    {
      "cell_type": "markdown",
      "source": [
        "#Nutral Log, or Log at Base e"
      ],
      "metadata": {
        "id": "JvElFLeKcNjp"
      }
    },
    {
      "cell_type": "markdown",
      "source": [
        "Find log at base e of all elements of following array:"
      ],
      "metadata": {
        "id": "YZNaAvrNcVB_"
      }
    },
    {
      "cell_type": "code",
      "source": [
        "arr = np.arange(1, 10)\n",
        "print(np.log(arr))"
      ],
      "metadata": {
        "colab": {
          "base_uri": "https://localhost:8080/"
        },
        "id": "pF7-QAAXcdXf",
        "outputId": "1c585223-c7ac-4c14-99d4-77df169e25bc"
      },
      "execution_count": 322,
      "outputs": [
        {
          "output_type": "stream",
          "name": "stdout",
          "text": [
            "[0.         0.69314718 1.09861229 1.38629436 1.60943791 1.79175947\n",
            " 1.94591015 2.07944154 2.19722458]\n"
          ]
        }
      ]
    },
    {
      "cell_type": "markdown",
      "source": [
        "#Log at Any Base"
      ],
      "metadata": {
        "id": "cjN-bbJncrmg"
      }
    },
    {
      "cell_type": "code",
      "source": [
        "from math import log\n",
        "nplog = np.frompyfunc(log, 2, 1)\n",
        "print(nplog(100, 15))"
      ],
      "metadata": {
        "colab": {
          "base_uri": "https://localhost:8080/"
        },
        "id": "AInJfcfnc6dx",
        "outputId": "15b77454-7dce-4946-d83c-6e8de5dc0762"
      },
      "execution_count": 323,
      "outputs": [
        {
          "output_type": "stream",
          "name": "stdout",
          "text": [
            "1.7005483074552052\n"
          ]
        }
      ]
    },
    {
      "cell_type": "markdown",
      "source": [
        "#**NumPy Summations**"
      ],
      "metadata": {
        "id": "zNyX3EIHfwVt"
      }
    },
    {
      "cell_type": "markdown",
      "source": [
        "Add the values in arr1 to the values in arr2:"
      ],
      "metadata": {
        "id": "ac7pev9Hf3iw"
      }
    },
    {
      "cell_type": "code",
      "source": [
        "arr1 = np.array([1,2,3])\n",
        "arr2 = np.array([1,2,3])\n",
        "\n",
        "newarr = np.add(arr1, arr2)\n",
        "print(newarr)"
      ],
      "metadata": {
        "colab": {
          "base_uri": "https://localhost:8080/"
        },
        "id": "lEWGLoJJf2pJ",
        "outputId": "487f8184-39f1-49f4-b26f-9fafa1f24e4d"
      },
      "execution_count": 324,
      "outputs": [
        {
          "output_type": "stream",
          "name": "stdout",
          "text": [
            "[2 4 6]\n"
          ]
        }
      ]
    },
    {
      "cell_type": "markdown",
      "source": [
        "Sum the values in arr1 and the values in arr2:"
      ],
      "metadata": {
        "id": "i5_7D6ndgVfh"
      }
    },
    {
      "cell_type": "code",
      "source": [
        "arr1 = np.array([1,2,3])\n",
        "arr2 = np.array([1,2,3])\n",
        "\n",
        "newarr = np.sum([arr1, arr2])\n",
        "\n",
        "print(newarr)"
      ],
      "metadata": {
        "colab": {
          "base_uri": "https://localhost:8080/"
        },
        "id": "iw-0aVqUgTPk",
        "outputId": "7ea25ec6-b91c-4538-bd1a-7aaed9cd8a2a"
      },
      "execution_count": 325,
      "outputs": [
        {
          "output_type": "stream",
          "name": "stdout",
          "text": [
            "12\n"
          ]
        }
      ]
    },
    {
      "cell_type": "markdown",
      "source": [
        "#Summation Over an Axis"
      ],
      "metadata": {
        "id": "H8dbHBc3g-AO"
      }
    },
    {
      "cell_type": "markdown",
      "source": [
        "Perform summation in the following array over 1st axis:"
      ],
      "metadata": {
        "id": "FSnERSm1hFkZ"
      }
    },
    {
      "cell_type": "code",
      "source": [
        "arr1 = np.array([1,2,3])\n",
        "arr2 = np.array([1,2,3])\n",
        "\n",
        "newarr = np.sum([arr1, arr2], axis=1)\n",
        "\n",
        "print(newarr)"
      ],
      "metadata": {
        "colab": {
          "base_uri": "https://localhost:8080/"
        },
        "id": "5A6E2pe7g3mF",
        "outputId": "e6a45f4d-8819-449c-c9fb-ee732474cbdb"
      },
      "execution_count": 326,
      "outputs": [
        {
          "output_type": "stream",
          "name": "stdout",
          "text": [
            "[6 6]\n"
          ]
        }
      ]
    },
    {
      "cell_type": "markdown",
      "source": [
        "#Cummulative Sum"
      ],
      "metadata": {
        "id": "UsdSmHVJhxDW"
      }
    },
    {
      "cell_type": "markdown",
      "source": [
        "Perform cummulative summation in the following array:"
      ],
      "metadata": {
        "id": "sjTIgAwOh1Zf"
      }
    },
    {
      "cell_type": "code",
      "source": [
        "arr = np.array([1,2,3])\n",
        "newarr = np.cumsum(arr)\n",
        "\n",
        "print(newarr)"
      ],
      "metadata": {
        "colab": {
          "base_uri": "https://localhost:8080/"
        },
        "id": "jm3tpSHPi6hZ",
        "outputId": "05c89465-f1a3-4c7f-b5cf-c75c04e393f7"
      },
      "execution_count": 327,
      "outputs": [
        {
          "output_type": "stream",
          "name": "stdout",
          "text": [
            "[1 3 6]\n"
          ]
        }
      ]
    },
    {
      "cell_type": "markdown",
      "source": [
        "#**NumPy Products**"
      ],
      "metadata": {
        "id": "WBfdvInfjd3V"
      }
    },
    {
      "cell_type": "markdown",
      "source": [
        "Find the product of the elements of this array:"
      ],
      "metadata": {
        "id": "-P4h_wW2j9MD"
      }
    },
    {
      "cell_type": "code",
      "source": [
        "arr = np.array([1,2,3,4])\n",
        "x = np.prod(arr)\n",
        "\n",
        "print(x)"
      ],
      "metadata": {
        "colab": {
          "base_uri": "https://localhost:8080/"
        },
        "id": "84RvHYnXkEzs",
        "outputId": "8e3bf1aa-3ccc-4860-a380-197ba8d03bc4"
      },
      "execution_count": 328,
      "outputs": [
        {
          "output_type": "stream",
          "name": "stdout",
          "text": [
            "24\n"
          ]
        }
      ]
    },
    {
      "cell_type": "markdown",
      "source": [
        "Find the product of the elements of two arrays:"
      ],
      "metadata": {
        "id": "0DmKiIDBkhko"
      }
    },
    {
      "cell_type": "code",
      "source": [
        "arr1 = np.array([1,2,3,4])\n",
        "arr2 = np.array([5,6,7,8])\n",
        "\n",
        "x = np.prod([arr1, arr2])\n",
        "\n",
        "print(x)"
      ],
      "metadata": {
        "colab": {
          "base_uri": "https://localhost:8080/"
        },
        "id": "CqjPInVtkpHh",
        "outputId": "d615fabb-60e9-4068-ce80-aa4e18a2deba"
      },
      "execution_count": 329,
      "outputs": [
        {
          "output_type": "stream",
          "name": "stdout",
          "text": [
            "40320\n"
          ]
        }
      ]
    },
    {
      "cell_type": "markdown",
      "source": [
        "#Product Over an Axis"
      ],
      "metadata": {
        "id": "yiNAbMEwl2rD"
      }
    },
    {
      "cell_type": "markdown",
      "source": [
        "Perform summation in the following array over 1st axis:"
      ],
      "metadata": {
        "id": "zffj5y9tl65f"
      }
    },
    {
      "cell_type": "code",
      "source": [
        "arr1 = np.array([1,2,3,4])\n",
        "arr2 = np.array([5,6,7,8])\n",
        "\n",
        "newarr = np.prod([arr1, arr2], axis=1)\n",
        "\n",
        "print(newarr)"
      ],
      "metadata": {
        "colab": {
          "base_uri": "https://localhost:8080/"
        },
        "id": "fj6qE9V4mDak",
        "outputId": "b485208f-468a-4e27-c1fa-bafe650e0bcf"
      },
      "execution_count": 330,
      "outputs": [
        {
          "output_type": "stream",
          "name": "stdout",
          "text": [
            "[  24 1680]\n"
          ]
        }
      ]
    },
    {
      "cell_type": "markdown",
      "source": [
        "#Cummulative Product"
      ],
      "metadata": {
        "id": "LR3Jgvs7mlYR"
      }
    },
    {
      "cell_type": "markdown",
      "source": [
        "Take cummulative product of all elements for follwing array:"
      ],
      "metadata": {
        "id": "tCR9s7Q7mpwB"
      }
    },
    {
      "cell_type": "code",
      "source": [
        "arr = np.array([5,6,7,8])\n",
        "newarr = np.cumprod(arr)\n",
        "\n",
        "print(newarr)"
      ],
      "metadata": {
        "colab": {
          "base_uri": "https://localhost:8080/"
        },
        "id": "cLb-jZJem461",
        "outputId": "09d7c3c0-d798-42ea-fe5a-d43bde89b323"
      },
      "execution_count": 331,
      "outputs": [
        {
          "output_type": "stream",
          "name": "stdout",
          "text": [
            "[   5   30  210 1680]\n"
          ]
        }
      ]
    },
    {
      "cell_type": "markdown",
      "source": [
        "#**NumPy Differences**"
      ],
      "metadata": {
        "id": "1nHoIhHhnOnh"
      }
    },
    {
      "cell_type": "markdown",
      "source": [
        "Compute discrete difference of the following array:"
      ],
      "metadata": {
        "id": "1cfBKrA9nUbO"
      }
    },
    {
      "cell_type": "code",
      "source": [
        "arr = np.array([10,15,25,5])\n",
        "\n",
        "newarr = np.diff(arr)\n",
        "\n",
        "print(newarr)"
      ],
      "metadata": {
        "colab": {
          "base_uri": "https://localhost:8080/"
        },
        "id": "wrJ6933anmLK",
        "outputId": "4c30c848-ca08-4643-b29a-a1f98683d169"
      },
      "execution_count": 332,
      "outputs": [
        {
          "output_type": "stream",
          "name": "stdout",
          "text": [
            "[  5  10 -20]\n"
          ]
        }
      ]
    },
    {
      "cell_type": "markdown",
      "source": [
        "Compute discrete difference of the following array twice:"
      ],
      "metadata": {
        "id": "VVY4CmLgn-k4"
      }
    },
    {
      "cell_type": "code",
      "source": [
        "arr = np.array([10,15,25,5])\n",
        "\n",
        "newarr = np.diff(arr, n=2)\n",
        "\n",
        "print(newarr)"
      ],
      "metadata": {
        "colab": {
          "base_uri": "https://localhost:8080/"
        },
        "id": "wsP8AD0VoOJI",
        "outputId": "b7ceda0d-4b32-4f83-876f-33b3002d1ef8"
      },
      "execution_count": 333,
      "outputs": [
        {
          "output_type": "stream",
          "name": "stdout",
          "text": [
            "[  5 -30]\n"
          ]
        }
      ]
    },
    {
      "cell_type": "markdown",
      "source": [
        "#**NumPy LCM Lowest Common Multiple**"
      ],
      "metadata": {
        "id": "RhfrI-DWsZuU"
      }
    },
    {
      "cell_type": "markdown",
      "source": [
        "Find the LCM of the following two numbers:"
      ],
      "metadata": {
        "id": "Lw3q3edys6UN"
      }
    },
    {
      "cell_type": "code",
      "source": [
        "num1 = 4\n",
        "num2 = 6\n",
        "\n",
        "x = np.lcm(num1, num2)\n",
        "\n",
        "print(x)"
      ],
      "metadata": {
        "colab": {
          "base_uri": "https://localhost:8080/"
        },
        "id": "7Q8mno6btI3m",
        "outputId": "b58682c9-8fa0-4ff4-94be-592aea10c0ab"
      },
      "execution_count": 334,
      "outputs": [
        {
          "output_type": "stream",
          "name": "stdout",
          "text": [
            "12\n"
          ]
        }
      ]
    },
    {
      "cell_type": "markdown",
      "source": [
        "Find the LCM of the values of the following array:"
      ],
      "metadata": {
        "id": "X1WcUeGFtz2z"
      }
    },
    {
      "cell_type": "code",
      "source": [
        "arr = np.array([3,6,9])\n",
        "x = np.lcm.reduce(arr)\n",
        "\n",
        "print(x)"
      ],
      "metadata": {
        "colab": {
          "base_uri": "https://localhost:8080/"
        },
        "id": "81aKc5M-t8GN",
        "outputId": "ed480980-ac5a-4a34-da84-afcb8c7cc2c2"
      },
      "execution_count": 335,
      "outputs": [
        {
          "output_type": "stream",
          "name": "stdout",
          "text": [
            "18\n"
          ]
        }
      ]
    },
    {
      "cell_type": "markdown",
      "source": [
        "Find the LCM of all values of an array where the array contains all integers from 1 to 10:"
      ],
      "metadata": {
        "id": "quWBv3DAuRe0"
      }
    },
    {
      "cell_type": "code",
      "source": [
        "arr = np.arange(1, 11)\n",
        "\n",
        "x = np.lcm.reduce(arr)\n",
        "\n",
        "print(x)"
      ],
      "metadata": {
        "colab": {
          "base_uri": "https://localhost:8080/"
        },
        "id": "mV2uipr7ugdH",
        "outputId": "e75bf5f1-84e1-42c7-f1b1-40baa45266a2"
      },
      "execution_count": 336,
      "outputs": [
        {
          "output_type": "stream",
          "name": "stdout",
          "text": [
            "2520\n"
          ]
        }
      ]
    },
    {
      "cell_type": "markdown",
      "source": [
        "#**NumPy GCD Greatest Common Denominator**"
      ],
      "metadata": {
        "id": "JuESTPsRuxdb"
      }
    },
    {
      "cell_type": "markdown",
      "source": [
        "Find the HCF of the following two numbers:"
      ],
      "metadata": {
        "id": "iY0rjDnfu_3B"
      }
    },
    {
      "cell_type": "code",
      "source": [
        "num1 = 6\n",
        "num2 = 9\n",
        "\n",
        "x = np.gcd(num1, num2)\n",
        "\n",
        "print(x)"
      ],
      "metadata": {
        "colab": {
          "base_uri": "https://localhost:8080/"
        },
        "id": "unY9Lv7jvG-k",
        "outputId": "9999f170-1f6b-472d-fab2-9e7c5098296f"
      },
      "execution_count": 337,
      "outputs": [
        {
          "output_type": "stream",
          "name": "stdout",
          "text": [
            "3\n"
          ]
        }
      ]
    },
    {
      "cell_type": "markdown",
      "source": [
        "Find the GCD for all the numbers in the following array:"
      ],
      "metadata": {
        "id": "nqJcMvj9vdFF"
      }
    },
    {
      "cell_type": "code",
      "source": [
        "arr = np.array([20,8,32,36,16])\n",
        "x = np.gcd.reduce(arr)\n",
        "\n",
        "print(x)"
      ],
      "metadata": {
        "colab": {
          "base_uri": "https://localhost:8080/"
        },
        "id": "woyXteeivQ_B",
        "outputId": "c8ccf90b-d2f8-4b6d-ef6b-6590e87288f0"
      },
      "execution_count": 338,
      "outputs": [
        {
          "output_type": "stream",
          "name": "stdout",
          "text": [
            "4\n"
          ]
        }
      ]
    },
    {
      "cell_type": "markdown",
      "source": [
        "#**NumPy Trigonometric**"
      ],
      "metadata": {
        "id": "eF4fndFZwrfS"
      }
    },
    {
      "cell_type": "markdown",
      "source": [
        "Find sine value of PI/2:"
      ],
      "metadata": {
        "id": "ZwB0Foarw3rK"
      }
    },
    {
      "cell_type": "code",
      "source": [
        "x = np.sin(np.pi/2)\n",
        "\n",
        "print(x)"
      ],
      "metadata": {
        "colab": {
          "base_uri": "https://localhost:8080/"
        },
        "id": "9I-DV5A3w2uH",
        "outputId": "cb8ff154-ae78-425d-d50b-9175f8e0245f"
      },
      "execution_count": 339,
      "outputs": [
        {
          "output_type": "stream",
          "name": "stdout",
          "text": [
            "1.0\n"
          ]
        }
      ]
    },
    {
      "cell_type": "markdown",
      "source": [
        "Find sine values for all of the values in arr:"
      ],
      "metadata": {
        "id": "LNdV8VHgxPO1"
      }
    },
    {
      "cell_type": "code",
      "source": [
        "arr = np.array([np.pi/2, np.pi/3, np.pi/4, np.pi/5])\n",
        "x = np.sin(arr)\n",
        "\n",
        "print(x)"
      ],
      "metadata": {
        "colab": {
          "base_uri": "https://localhost:8080/"
        },
        "id": "dgadDI-4xWhS",
        "outputId": "45f2a2ba-03ae-4d92-841c-97c574ec2118"
      },
      "execution_count": 340,
      "outputs": [
        {
          "output_type": "stream",
          "name": "stdout",
          "text": [
            "[1.         0.8660254  0.70710678 0.58778525]\n"
          ]
        }
      ]
    },
    {
      "cell_type": "markdown",
      "source": [
        "Convert all of the values in following array  arr to radians:"
      ],
      "metadata": {
        "id": "YTDTCpZxx3kw"
      }
    },
    {
      "cell_type": "code",
      "source": [
        "arr = np.array([90,180,270,360])\n",
        "\n",
        "x = np.deg2rad(arr)\n",
        "\n",
        "print(x)"
      ],
      "metadata": {
        "colab": {
          "base_uri": "https://localhost:8080/"
        },
        "id": "ar-fW_3vyBvz",
        "outputId": "67d57232-41f7-4623-aef2-5e549084359d"
      },
      "execution_count": 341,
      "outputs": [
        {
          "output_type": "stream",
          "name": "stdout",
          "text": [
            "[1.57079633 3.14159265 4.71238898 6.28318531]\n"
          ]
        }
      ]
    },
    {
      "cell_type": "markdown",
      "source": [
        "#Radians to Degrees"
      ],
      "metadata": {
        "id": "fQ9RExcbyX1d"
      }
    },
    {
      "cell_type": "markdown",
      "source": [
        "Convert all of the values in following array arr to degrees:"
      ],
      "metadata": {
        "id": "yUsH-3pzyeLa"
      }
    },
    {
      "cell_type": "code",
      "source": [
        "arr = np.array([np.pi/2, np.pi, 1.5*np.pi, 2*np.pi])\n",
        "\n",
        "x = np.rad2deg(arr)\n",
        "\n",
        "print(x)"
      ],
      "metadata": {
        "colab": {
          "base_uri": "https://localhost:8080/"
        },
        "id": "OdzZykXNyc4n",
        "outputId": "0e11bead-06c5-492f-86d4-5273d2a25321"
      },
      "execution_count": 342,
      "outputs": [
        {
          "output_type": "stream",
          "name": "stdout",
          "text": [
            "[ 90. 180. 270. 360.]\n"
          ]
        }
      ]
    },
    {
      "cell_type": "markdown",
      "source": [
        "Find the angle of 1.0:"
      ],
      "metadata": {
        "id": "j-tPAJVgzxpV"
      }
    },
    {
      "cell_type": "code",
      "source": [
        "x = np.arcsin(1.0)\n",
        "print(x)"
      ],
      "metadata": {
        "colab": {
          "base_uri": "https://localhost:8080/"
        },
        "id": "pWnqoEJuz10J",
        "outputId": "95e42ccc-faa6-4a4d-bcb9-b298b4e84f31"
      },
      "execution_count": 343,
      "outputs": [
        {
          "output_type": "stream",
          "name": "stdout",
          "text": [
            "1.5707963267948966\n"
          ]
        }
      ]
    },
    {
      "cell_type": "markdown",
      "source": [
        "#Angles of Each Value in Arrays"
      ],
      "metadata": {
        "id": "KXVfR-POz-pS"
      }
    },
    {
      "cell_type": "markdown",
      "source": [
        "Find the angle for all of the sine values in the array"
      ],
      "metadata": {
        "id": "kYaG8LRh0Frm"
      }
    },
    {
      "cell_type": "code",
      "source": [
        "arr = np.array([1, -1, 0.1])\n",
        "\n",
        "x = np.arcsin(arr)\n",
        "\n",
        "print(x)"
      ],
      "metadata": {
        "colab": {
          "base_uri": "https://localhost:8080/"
        },
        "id": "VKTxS9YE0EeK",
        "outputId": "a8a360d4-f0cc-4343-be85-954653c66cb5"
      },
      "execution_count": 344,
      "outputs": [
        {
          "output_type": "stream",
          "name": "stdout",
          "text": [
            "[ 1.57079633 -1.57079633  0.10016742]\n"
          ]
        }
      ]
    },
    {
      "cell_type": "markdown",
      "source": [
        "#Hypotenues"
      ],
      "metadata": {
        "id": "UhUEXzsB0hC6"
      }
    },
    {
      "cell_type": "code",
      "source": [
        "base = 3\n",
        "perp = 4\n",
        "\n",
        "x = np.hypot(base, perp)\n",
        "\n",
        "print(x)"
      ],
      "metadata": {
        "colab": {
          "base_uri": "https://localhost:8080/"
        },
        "id": "kWrGKshj0sYF",
        "outputId": "d6923c23-95ce-492d-dfa3-b87e4bee1f65"
      },
      "execution_count": 345,
      "outputs": [
        {
          "output_type": "stream",
          "name": "stdout",
          "text": [
            "5.0\n"
          ]
        }
      ]
    },
    {
      "cell_type": "markdown",
      "source": [
        "#**NumPy Hyperbolic Functions**"
      ],
      "metadata": {
        "id": "3XizP3FI1E48"
      }
    },
    {
      "cell_type": "markdown",
      "source": [
        "Find sinh value of PI/2:"
      ],
      "metadata": {
        "id": "K_dJ5rSt1Ewd"
      }
    },
    {
      "cell_type": "code",
      "source": [
        "x = np.sinh(np.pi/2)\n",
        "\n",
        "print(x)"
      ],
      "metadata": {
        "colab": {
          "base_uri": "https://localhost:8080/"
        },
        "id": "MUKIyflf1XcL",
        "outputId": "edabc18e-5c3f-4519-978d-ef584a74d08b"
      },
      "execution_count": 346,
      "outputs": [
        {
          "output_type": "stream",
          "name": "stdout",
          "text": [
            "2.3012989023072947\n"
          ]
        }
      ]
    },
    {
      "cell_type": "markdown",
      "source": [
        "Find cosh values for all the values in arr:"
      ],
      "metadata": {
        "id": "91L3O1h-1izn"
      }
    },
    {
      "cell_type": "code",
      "source": [
        "arr = np.array([np.pi/2, np.pi/3, np.pi/4, np.pi/5])\n",
        "\n",
        "x = np.cosh(arr)\n",
        "\n",
        "print(x)"
      ],
      "metadata": {
        "colab": {
          "base_uri": "https://localhost:8080/"
        },
        "id": "hCViGqNy1oxu",
        "outputId": "149e6c08-759f-4468-c227-1563df97e708"
      },
      "execution_count": 347,
      "outputs": [
        {
          "output_type": "stream",
          "name": "stdout",
          "text": [
            "[2.50917848 1.60028686 1.32460909 1.20397209]\n"
          ]
        }
      ]
    },
    {
      "cell_type": "markdown",
      "source": [
        "Find the angle of 1.0:"
      ],
      "metadata": {
        "id": "Kz3MEqlY17ZQ"
      }
    },
    {
      "cell_type": "code",
      "source": [
        "x = np.arcsinh(1.0)\n",
        "print(x)"
      ],
      "metadata": {
        "colab": {
          "base_uri": "https://localhost:8080/"
        },
        "id": "mVefq5BC5XSE",
        "outputId": "bbdcb50e-ecbe-49bc-b315-2a1b29637e4c"
      },
      "execution_count": 348,
      "outputs": [
        {
          "output_type": "stream",
          "name": "stdout",
          "text": [
            "0.881373587019543\n"
          ]
        }
      ]
    },
    {
      "cell_type": "markdown",
      "source": [
        "Find the angle for all of the thanh values in array:"
      ],
      "metadata": {
        "id": "Mq4bvQRU5ewM"
      }
    },
    {
      "cell_type": "code",
      "source": [
        "arr = np.array([0.1, 0.2, 0.5])\n",
        "\n",
        "x = np.arctan(arr)\n",
        "\n",
        "print(x)"
      ],
      "metadata": {
        "colab": {
          "base_uri": "https://localhost:8080/"
        },
        "id": "AgcXKKPi5mY6",
        "outputId": "238f75c4-21b1-4301-8543-fc2fddeff20e"
      },
      "execution_count": 349,
      "outputs": [
        {
          "output_type": "stream",
          "name": "stdout",
          "text": [
            "[0.09966865 0.19739556 0.46364761]\n"
          ]
        }
      ]
    },
    {
      "cell_type": "markdown",
      "source": [
        "#**NumPy Set Operations**"
      ],
      "metadata": {
        "id": "HMkoY59Z6C0D"
      }
    },
    {
      "cell_type": "markdown",
      "source": [
        "Convert following array with repeated elements to a set:"
      ],
      "metadata": {
        "id": "ZZi5hqX76UVM"
      }
    },
    {
      "cell_type": "code",
      "source": [
        "arr = np.array([1,1,1,2,3,4,5,5,6,7])\n",
        "\n",
        "x = np.unique(arr)\n",
        "\n",
        "print(x)"
      ],
      "metadata": {
        "colab": {
          "base_uri": "https://localhost:8080/"
        },
        "id": "TYmXWQX66bxW",
        "outputId": "df4276c0-9bb4-4c6e-93cf-ba376585b15d"
      },
      "execution_count": 350,
      "outputs": [
        {
          "output_type": "stream",
          "name": "stdout",
          "text": [
            "[1 2 3 4 5 6 7]\n"
          ]
        }
      ]
    },
    {
      "cell_type": "markdown",
      "source": [
        "#Find Union"
      ],
      "metadata": {
        "id": "3EGHQDzJ6s2A"
      }
    },
    {
      "cell_type": "markdown",
      "source": [
        "Find union of the following two set arrays:"
      ],
      "metadata": {
        "id": "-vrqZBxx60Xq"
      }
    },
    {
      "cell_type": "code",
      "source": [
        "arr1 = np.array([1,2,3,4])\n",
        "arr2 = np.array([3,4,5,6])\n",
        "\n",
        "newarr = np.union1d(arr1, arr2)\n",
        "\n",
        "print(newarr)"
      ],
      "metadata": {
        "colab": {
          "base_uri": "https://localhost:8080/"
        },
        "id": "6jijKjmZ66NL",
        "outputId": "dfe61032-ec90-45db-8127-f66a938de8b5"
      },
      "execution_count": 351,
      "outputs": [
        {
          "output_type": "stream",
          "name": "stdout",
          "text": [
            "[1 2 3 4 5 6]\n"
          ]
        }
      ]
    },
    {
      "cell_type": "markdown",
      "source": [
        "#Finding Intersection"
      ],
      "metadata": {
        "id": "SpnLVORW7X2S"
      }
    },
    {
      "cell_type": "code",
      "source": [
        "arr1 = np.array([1,2,3,4])\n",
        "arr2 = np.array([3,4,5,6])\n",
        "\n",
        "newarr = np.intersect1d(arr1, arr2, assume_unique=True)\n",
        "\n",
        "print(newarr)"
      ],
      "metadata": {
        "colab": {
          "base_uri": "https://localhost:8080/"
        },
        "id": "B7AMP1sP7dfv",
        "outputId": "5abddb79-241b-4a7d-d232-b5c2783c4f7d"
      },
      "execution_count": 352,
      "outputs": [
        {
          "output_type": "stream",
          "name": "stdout",
          "text": [
            "[3 4]\n"
          ]
        }
      ]
    },
    {
      "cell_type": "markdown",
      "source": [
        "#Finding Difference"
      ],
      "metadata": {
        "id": "v1FYxDOh7XpE"
      }
    },
    {
      "cell_type": "markdown",
      "source": [
        "Find the difference of the set1 from set2:"
      ],
      "metadata": {
        "id": "7JBdnMbb8Hwa"
      }
    },
    {
      "cell_type": "code",
      "source": [
        "set1 = np.array([1,2,3,4])\n",
        "set2 = np.array([3,4,5,6])\n",
        "\n",
        "newarr = np.setdiff1d(set1, set2, assume_unique=True)\n",
        "\n",
        "print(newarr)"
      ],
      "metadata": {
        "colab": {
          "base_uri": "https://localhost:8080/"
        },
        "id": "yVH0cmTD8O_-",
        "outputId": "b2714ec6-ab9e-4a8d-d05f-30659ac7093a"
      },
      "execution_count": 353,
      "outputs": [
        {
          "output_type": "stream",
          "name": "stdout",
          "text": [
            "[1 2]\n"
          ]
        }
      ]
    },
    {
      "cell_type": "markdown",
      "source": [
        "#Find Symmetric Difference"
      ],
      "metadata": {
        "id": "q0Rk0qiY9L5q"
      }
    },
    {
      "cell_type": "markdown",
      "source": [
        "Find the symmetric difference of the set1 and set2:"
      ],
      "metadata": {
        "id": "oS-jCJsi9jQh"
      }
    },
    {
      "cell_type": "code",
      "source": [
        "set1 = np.array([1,2,3,4])\n",
        "set2 = np.array([3,4,5,6])\n",
        "\n",
        "newarr = np.setxor1d(set1, set2, assume_unique=True)\n",
        "\n",
        "print(newarr)"
      ],
      "metadata": {
        "colab": {
          "base_uri": "https://localhost:8080/"
        },
        "id": "ux59vLZF9iSN",
        "outputId": "88c24096-0808-4d8c-8de8-d9842a5166ce"
      },
      "execution_count": 354,
      "outputs": [
        {
          "output_type": "stream",
          "name": "stdout",
          "text": [
            "[1 2 5 6]\n"
          ]
        }
      ]
    }
  ],
  "metadata": {
    "colab": {
      "provenance": [],
      "toc_visible": true,
      "authorship_tag": "ABX9TyNPp8Hh87S8Sp/RoLQt85S9",
      "include_colab_link": true
    },
    "kernelspec": {
      "display_name": "Python 3",
      "name": "python3"
    },
    "language_info": {
      "name": "python"
    }
  },
  "nbformat": 4,
  "nbformat_minor": 0
}